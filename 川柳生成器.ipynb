{
  "nbformat": 4,
  "nbformat_minor": 0,
  "metadata": {
    "colab": {
      "name": "川柳生成器.ipynb",
      "version": "0.3.2",
      "provenance": [],
      "include_colab_link": true
    },
    "kernelspec": {
      "name": "python3",
      "display_name": "Python 3"
    },
    "accelerator": "GPU"
  },
  "cells": [
    {
      "cell_type": "markdown",
      "metadata": {
        "id": "view-in-github",
        "colab_type": "text"
      },
      "source": [
        "<a href=\"https://colab.research.google.com/github/franseal/project_X/blob/master/%E5%B7%9D%E6%9F%B3%E7%94%9F%E6%88%90%E5%99%A8.ipynb\" target=\"_parent\"><img src=\"https://colab.research.google.com/assets/colab-badge.svg\" alt=\"Open In Colab\"/></a>"
      ]
    },
    {
      "metadata": {
        "id": "9pu88Ef6_6ay",
        "colab_type": "text"
      },
      "cell_type": "markdown",
      "source": [
        "#install"
      ]
    },
    {
      "metadata": {
        "id": "8hIGtWOs_cI3",
        "colab_type": "code",
        "colab": {}
      },
      "cell_type": "code",
      "source": [
        "import numpy as np"
      ],
      "execution_count": 0,
      "outputs": []
    },
    {
      "metadata": {
        "id": "vqY5xyF3_-ug",
        "colab_type": "code",
        "outputId": "9bc91388-f998-4adb-eb96-76ee970846f9",
        "colab": {
          "base_uri": "https://localhost:8080/",
          "height": 106
        }
      },
      "cell_type": "code",
      "source": [
        "!pip install janome"
      ],
      "execution_count": 2,
      "outputs": [
        {
          "output_type": "stream",
          "text": [
            "Collecting janome\n",
            "\u001b[?25l  Downloading https://files.pythonhosted.org/packages/a0/af/a57956e98b26beebc4efe20c3f5b482f0b4e091f546bfd90a96678da2f1c/Janome-0.3.7-py27.py3-none-any.whl (20.7MB)\n",
            "\u001b[K    100% |████████████████████████████████| 20.7MB 2.4MB/s \n",
            "\u001b[?25hInstalling collected packages: janome\n",
            "Successfully installed janome-0.3.7\n"
          ],
          "name": "stdout"
        }
      ]
    },
    {
      "metadata": {
        "id": "Y3mzdmIyAHj5",
        "colab_type": "code",
        "outputId": "6cf0d3e3-97b8-48fb-c18f-27dc5bbda16c",
        "colab": {
          "base_uri": "https://localhost:8080/",
          "height": 6578
        }
      },
      "cell_type": "code",
      "source": [
        "!apt-get -q -y install swig\n",
        "!apt install aptitude\n",
        "!aptitude install mecab libmecab-dev mecab-ipadic-utf8 git make curl xz-utils file -y\n",
        "!pip install mecab-python3"
      ],
      "execution_count": 3,
      "outputs": [
        {
          "output_type": "stream",
          "text": [
            "Reading package lists...\n",
            "Building dependency tree...\n",
            "Reading state information...\n",
            "The following additional packages will be installed:\n",
            "  swig3.0\n",
            "Suggested packages:\n",
            "  swig-doc swig-examples swig3.0-examples swig3.0-doc\n",
            "The following NEW packages will be installed:\n",
            "  swig swig3.0\n",
            "0 upgraded, 2 newly installed, 0 to remove and 13 not upgraded.\n",
            "Need to get 1,100 kB of archives.\n",
            "After this operation, 5,822 kB of additional disk space will be used.\n",
            "Get:1 http://archive.ubuntu.com/ubuntu bionic/universe amd64 swig3.0 amd64 3.0.12-1 [1,094 kB]\n",
            "Get:2 http://archive.ubuntu.com/ubuntu bionic/universe amd64 swig amd64 3.0.12-1 [6,460 B]\n",
            "Fetched 1,100 kB in 0s (10.1 MB/s)\n",
            "Selecting previously unselected package swig3.0.\n",
            "(Reading database ... 110851 files and directories currently installed.)\n",
            "Preparing to unpack .../swig3.0_3.0.12-1_amd64.deb ...\n",
            "Unpacking swig3.0 (3.0.12-1) ...\n",
            "Selecting previously unselected package swig.\n",
            "Preparing to unpack .../swig_3.0.12-1_amd64.deb ...\n",
            "Unpacking swig (3.0.12-1) ...\n",
            "Setting up swig3.0 (3.0.12-1) ...\n",
            "Processing triggers for man-db (2.8.3-2ubuntu0.1) ...\n",
            "Setting up swig (3.0.12-1) ...\n",
            "Reading package lists... Done\n",
            "Building dependency tree       \n",
            "Reading state information... Done\n",
            "The following additional packages will be installed:\n",
            "  aptitude-common libcgi-fast-perl libcgi-pm-perl libclass-accessor-perl\n",
            "  libcwidget3v5 libencode-locale-perl libfcgi-perl libhtml-parser-perl\n",
            "  libhtml-tagset-perl libhttp-date-perl libhttp-message-perl libio-html-perl\n",
            "  libio-string-perl liblwp-mediatypes-perl libparse-debianchangelog-perl\n",
            "  libsigc++-2.0-0v5 libsub-name-perl libtimedate-perl liburi-perl libxapian30\n",
            "Suggested packages:\n",
            "  aptitude-doc-en | aptitude-doc apt-xapian-index debtags tasksel\n",
            "  libcwidget-dev libdata-dump-perl libhtml-template-perl libxml-simple-perl\n",
            "  libwww-perl xapian-tools\n",
            "The following NEW packages will be installed:\n",
            "  aptitude aptitude-common libcgi-fast-perl libcgi-pm-perl\n",
            "  libclass-accessor-perl libcwidget3v5 libencode-locale-perl libfcgi-perl\n",
            "  libhtml-parser-perl libhtml-tagset-perl libhttp-date-perl\n",
            "  libhttp-message-perl libio-html-perl libio-string-perl\n",
            "  liblwp-mediatypes-perl libparse-debianchangelog-perl libsigc++-2.0-0v5\n",
            "  libsub-name-perl libtimedate-perl liburi-perl libxapian30\n",
            "0 upgraded, 21 newly installed, 0 to remove and 13 not upgraded.\n",
            "Need to get 3,877 kB of archives.\n",
            "After this operation, 15.6 MB of additional disk space will be used.\n",
            "Get:1 http://archive.ubuntu.com/ubuntu bionic/main amd64 aptitude-common all 0.8.10-6ubuntu1 [1,014 kB]\n",
            "Get:2 http://archive.ubuntu.com/ubuntu bionic/main amd64 libsigc++-2.0-0v5 amd64 2.10.0-2 [10.9 kB]\n",
            "Get:3 http://archive.ubuntu.com/ubuntu bionic/main amd64 libcwidget3v5 amd64 0.5.17-7 [286 kB]\n",
            "Get:4 http://archive.ubuntu.com/ubuntu bionic-updates/main amd64 libxapian30 amd64 1.4.5-1ubuntu0.1 [631 kB]\n",
            "Get:5 http://archive.ubuntu.com/ubuntu bionic/main amd64 aptitude amd64 0.8.10-6ubuntu1 [1,269 kB]\n",
            "Get:6 http://archive.ubuntu.com/ubuntu bionic/main amd64 libhtml-tagset-perl all 3.20-3 [12.1 kB]\n",
            "Get:7 http://archive.ubuntu.com/ubuntu bionic/main amd64 liburi-perl all 1.73-1 [77.2 kB]\n",
            "Get:8 http://archive.ubuntu.com/ubuntu bionic/main amd64 libhtml-parser-perl amd64 3.72-3build1 [85.9 kB]\n",
            "Get:9 http://archive.ubuntu.com/ubuntu bionic/main amd64 libcgi-pm-perl all 4.38-1 [185 kB]\n",
            "Get:10 http://archive.ubuntu.com/ubuntu bionic/main amd64 libfcgi-perl amd64 0.78-2build1 [32.8 kB]\n",
            "Get:11 http://archive.ubuntu.com/ubuntu bionic/main amd64 libcgi-fast-perl all 1:2.13-1 [9,940 B]\n",
            "Get:12 http://archive.ubuntu.com/ubuntu bionic/main amd64 libsub-name-perl amd64 0.21-1build1 [11.6 kB]\n",
            "Get:13 http://archive.ubuntu.com/ubuntu bionic/main amd64 libclass-accessor-perl all 0.51-1 [21.2 kB]\n",
            "Get:14 http://archive.ubuntu.com/ubuntu bionic/main amd64 libencode-locale-perl all 1.05-1 [12.3 kB]\n",
            "Get:15 http://archive.ubuntu.com/ubuntu bionic/main amd64 libtimedate-perl all 2.3000-2 [37.5 kB]\n",
            "Get:16 http://archive.ubuntu.com/ubuntu bionic/main amd64 libhttp-date-perl all 6.02-1 [10.4 kB]\n",
            "Get:17 http://archive.ubuntu.com/ubuntu bionic/main amd64 libio-html-perl all 1.001-1 [14.9 kB]\n",
            "Get:18 http://archive.ubuntu.com/ubuntu bionic/main amd64 liblwp-mediatypes-perl all 6.02-1 [21.7 kB]\n",
            "Get:19 http://archive.ubuntu.com/ubuntu bionic/main amd64 libhttp-message-perl all 6.14-1 [72.1 kB]\n",
            "Get:20 http://archive.ubuntu.com/ubuntu bionic/main amd64 libio-string-perl all 1.08-3 [11.1 kB]\n",
            "Get:21 http://archive.ubuntu.com/ubuntu bionic/main amd64 libparse-debianchangelog-perl all 1.2.0-12 [49.5 kB]\n",
            "Fetched 3,877 kB in 0s (23.8 MB/s)\n",
            "Selecting previously unselected package aptitude-common.\n",
            "(Reading database ... 111642 files and directories currently installed.)\n",
            "Preparing to unpack .../00-aptitude-common_0.8.10-6ubuntu1_all.deb ...\n",
            "Unpacking aptitude-common (0.8.10-6ubuntu1) ...\n",
            "Selecting previously unselected package libsigc++-2.0-0v5:amd64.\n",
            "Preparing to unpack .../01-libsigc++-2.0-0v5_2.10.0-2_amd64.deb ...\n",
            "Unpacking libsigc++-2.0-0v5:amd64 (2.10.0-2) ...\n",
            "Selecting previously unselected package libcwidget3v5:amd64.\n",
            "Preparing to unpack .../02-libcwidget3v5_0.5.17-7_amd64.deb ...\n",
            "Unpacking libcwidget3v5:amd64 (0.5.17-7) ...\n",
            "Selecting previously unselected package libxapian30:amd64.\n",
            "Preparing to unpack .../03-libxapian30_1.4.5-1ubuntu0.1_amd64.deb ...\n",
            "Unpacking libxapian30:amd64 (1.4.5-1ubuntu0.1) ...\n",
            "Selecting previously unselected package aptitude.\n",
            "Preparing to unpack .../04-aptitude_0.8.10-6ubuntu1_amd64.deb ...\n",
            "Unpacking aptitude (0.8.10-6ubuntu1) ...\n",
            "Selecting previously unselected package libhtml-tagset-perl.\n",
            "Preparing to unpack .../05-libhtml-tagset-perl_3.20-3_all.deb ...\n",
            "Unpacking libhtml-tagset-perl (3.20-3) ...\n",
            "Selecting previously unselected package liburi-perl.\n",
            "Preparing to unpack .../06-liburi-perl_1.73-1_all.deb ...\n",
            "Unpacking liburi-perl (1.73-1) ...\n",
            "Selecting previously unselected package libhtml-parser-perl.\n",
            "Preparing to unpack .../07-libhtml-parser-perl_3.72-3build1_amd64.deb ...\n",
            "Unpacking libhtml-parser-perl (3.72-3build1) ...\n",
            "Selecting previously unselected package libcgi-pm-perl.\n",
            "Preparing to unpack .../08-libcgi-pm-perl_4.38-1_all.deb ...\n",
            "Unpacking libcgi-pm-perl (4.38-1) ...\n",
            "Selecting previously unselected package libfcgi-perl.\n",
            "Preparing to unpack .../09-libfcgi-perl_0.78-2build1_amd64.deb ...\n",
            "Unpacking libfcgi-perl (0.78-2build1) ...\n",
            "Selecting previously unselected package libcgi-fast-perl.\n",
            "Preparing to unpack .../10-libcgi-fast-perl_1%3a2.13-1_all.deb ...\n",
            "Unpacking libcgi-fast-perl (1:2.13-1) ...\n",
            "Selecting previously unselected package libsub-name-perl.\n",
            "Preparing to unpack .../11-libsub-name-perl_0.21-1build1_amd64.deb ...\n",
            "Unpacking libsub-name-perl (0.21-1build1) ...\n",
            "Selecting previously unselected package libclass-accessor-perl.\n",
            "Preparing to unpack .../12-libclass-accessor-perl_0.51-1_all.deb ...\n",
            "Unpacking libclass-accessor-perl (0.51-1) ...\n",
            "Selecting previously unselected package libencode-locale-perl.\n",
            "Preparing to unpack .../13-libencode-locale-perl_1.05-1_all.deb ...\n",
            "Unpacking libencode-locale-perl (1.05-1) ...\n",
            "Selecting previously unselected package libtimedate-perl.\n",
            "Preparing to unpack .../14-libtimedate-perl_2.3000-2_all.deb ...\n",
            "Unpacking libtimedate-perl (2.3000-2) ...\n",
            "Selecting previously unselected package libhttp-date-perl.\n",
            "Preparing to unpack .../15-libhttp-date-perl_6.02-1_all.deb ...\n",
            "Unpacking libhttp-date-perl (6.02-1) ...\n",
            "Selecting previously unselected package libio-html-perl.\n",
            "Preparing to unpack .../16-libio-html-perl_1.001-1_all.deb ...\n",
            "Unpacking libio-html-perl (1.001-1) ...\n",
            "Selecting previously unselected package liblwp-mediatypes-perl.\n",
            "Preparing to unpack .../17-liblwp-mediatypes-perl_6.02-1_all.deb ...\n",
            "Unpacking liblwp-mediatypes-perl (6.02-1) ...\n",
            "Selecting previously unselected package libhttp-message-perl.\n",
            "Preparing to unpack .../18-libhttp-message-perl_6.14-1_all.deb ...\n",
            "Unpacking libhttp-message-perl (6.14-1) ...\n",
            "Selecting previously unselected package libio-string-perl.\n",
            "Preparing to unpack .../19-libio-string-perl_1.08-3_all.deb ...\n",
            "Unpacking libio-string-perl (1.08-3) ...\n",
            "Selecting previously unselected package libparse-debianchangelog-perl.\n",
            "Preparing to unpack .../20-libparse-debianchangelog-perl_1.2.0-12_all.deb ...\n",
            "Unpacking libparse-debianchangelog-perl (1.2.0-12) ...\n",
            "Setting up libhtml-tagset-perl (3.20-3) ...\n",
            "Setting up libxapian30:amd64 (1.4.5-1ubuntu0.1) ...\n",
            "Setting up libencode-locale-perl (1.05-1) ...\n",
            "Setting up libtimedate-perl (2.3000-2) ...\n",
            "Setting up libio-html-perl (1.001-1) ...\n",
            "Setting up aptitude-common (0.8.10-6ubuntu1) ...\n",
            "Setting up liblwp-mediatypes-perl (6.02-1) ...\n",
            "Processing triggers for libc-bin (2.27-3ubuntu1) ...\n",
            "Setting up liburi-perl (1.73-1) ...\n",
            "Setting up libhtml-parser-perl (3.72-3build1) ...\n",
            "Setting up libcgi-pm-perl (4.38-1) ...\n",
            "Setting up libio-string-perl (1.08-3) ...\n",
            "Processing triggers for man-db (2.8.3-2ubuntu0.1) ...\n",
            "Setting up libsub-name-perl (0.21-1build1) ...\n",
            "Setting up libfcgi-perl (0.78-2build1) ...\n",
            "Setting up libsigc++-2.0-0v5:amd64 (2.10.0-2) ...\n",
            "Setting up libclass-accessor-perl (0.51-1) ...\n",
            "Setting up libhttp-date-perl (6.02-1) ...\n",
            "Setting up libcgi-fast-perl (1:2.13-1) ...\n",
            "Setting up libparse-debianchangelog-perl (1.2.0-12) ...\n",
            "Setting up libhttp-message-perl (6.14-1) ...\n",
            "Setting up libcwidget3v5:amd64 (0.5.17-7) ...\n",
            "Setting up aptitude (0.8.10-6ubuntu1) ...\n",
            "update-alternatives: using /usr/bin/aptitude-curses to provide /usr/bin/aptitude (aptitude) in auto mode\n",
            "Processing triggers for libc-bin (2.27-3ubuntu1) ...\n",
            "git is already installed at the requested version (1:2.17.1-1ubuntu0.4)\n",
            "make is already installed at the requested version (4.1-9.1ubuntu1)\n",
            "curl is already installed at the requested version (7.58.0-2ubuntu3.5)\n",
            "xz-utils is already installed at the requested version (5.2.2-1.3)\n",
            "git is already installed at the requested version (1:2.17.1-1ubuntu0.4)\n",
            "make is already installed at the requested version (4.1-9.1ubuntu1)\n",
            "curl is already installed at the requested version (7.58.0-2ubuntu3.5)\n",
            "xz-utils is already installed at the requested version (5.2.2-1.3)\n",
            "The following NEW packages will be installed:\n",
            "  file libmagic-mgc{a} libmagic1{a} libmecab-dev libmecab2{a} mecab mecab-ipadic{a} mecab-ipadic-utf8 mecab-jumandic{a} mecab-jumandic-utf8{a} mecab-utils{a} \n",
            "0 packages upgraded, 11 newly installed, 0 to remove and 13 not upgraded.\n",
            "Need to get 29.3 MB of archives. After unpacking 282 MB will be used.\n",
            "Get: 1 http://archive.ubuntu.com/ubuntu bionic-updates/main amd64 libmagic-mgc amd64 1:5.32-2ubuntu0.1 [184 kB]\n",
            "Get: 2 http://archive.ubuntu.com/ubuntu bionic-updates/main amd64 libmagic1 amd64 1:5.32-2ubuntu0.1 [68.4 kB]\n",
            "Get: 3 http://archive.ubuntu.com/ubuntu bionic-updates/main amd64 file amd64 1:5.32-2ubuntu0.1 [22.1 kB]\n",
            "Get: 4 http://archive.ubuntu.com/ubuntu bionic/universe amd64 libmecab2 amd64 0.996-5 [257 kB]\n",
            "Get: 5 http://archive.ubuntu.com/ubuntu bionic/universe amd64 libmecab-dev amd64 0.996-5 [308 kB]\n",
            "Get: 6 http://archive.ubuntu.com/ubuntu bionic/universe amd64 mecab-utils amd64 0.996-5 [4,856 B]\n",
            "Get: 7 http://archive.ubuntu.com/ubuntu bionic/universe amd64 mecab-jumandic-utf8 all 7.0-20130310-4 [16.2 MB]\n",
            "Get: 8 http://archive.ubuntu.com/ubuntu bionic/universe amd64 mecab-jumandic all 7.0-20130310-4 [2,212 B]\n",
            "Get: 9 http://archive.ubuntu.com/ubuntu bionic/universe amd64 mecab-ipadic all 2.7.0-20070801+main-1 [12.1 MB]\n",
            "Get: 10 http://archive.ubuntu.com/ubuntu bionic/universe amd64 mecab amd64 0.996-5 [132 kB]\n",
            "Get: 11 http://archive.ubuntu.com/ubuntu bionic/universe amd64 mecab-ipadic-utf8 all 2.7.0-20070801+main-1 [3,522 B]\n",
            "Fetched 29.3 MB in 0s (60.9 MB/s)\n",
            "Selecting previously unselected package libmagic-mgc.\n",
            "(Reading database ... 112101 files and directories currently installed.)\n",
            "Preparing to unpack .../00-libmagic-mgc_1%3a5.32-2ubuntu0.1_amd64.deb ...\n",
            "Unpacking libmagic-mgc (1:5.32-2ubuntu0.1) ...\n",
            "Selecting previously unselected package libmagic1:amd64.\n",
            "Preparing to unpack .../01-libmagic1_1%3a5.32-2ubuntu0.1_amd64.deb ...\n",
            "Unpacking libmagic1:amd64 (1:5.32-2ubuntu0.1) ...\n",
            "Selecting previously unselected package file.\n",
            "Preparing to unpack .../02-file_1%3a5.32-2ubuntu0.1_amd64.deb ...\n",
            "Unpacking file (1:5.32-2ubuntu0.1) ...\n",
            "Selecting previously unselected package libmecab2:amd64.\n",
            "Preparing to unpack .../03-libmecab2_0.996-5_amd64.deb ...\n",
            "Unpacking libmecab2:amd64 (0.996-5) ...\n",
            "Selecting previously unselected package libmecab-dev.\n",
            "Preparing to unpack .../04-libmecab-dev_0.996-5_amd64.deb ...\n",
            "Unpacking libmecab-dev (0.996-5) ...\n",
            "Selecting previously unselected package mecab-utils.\n",
            "Preparing to unpack .../05-mecab-utils_0.996-5_amd64.deb ...\n",
            "Unpacking mecab-utils (0.996-5) ...\n",
            "Selecting previously unselected package mecab-jumandic-utf8.\n",
            "Preparing to unpack .../06-mecab-jumandic-utf8_7.0-20130310-4_all.deb ...\n",
            "Unpacking mecab-jumandic-utf8 (7.0-20130310-4) ...\n",
            "Selecting previously unselected package mecab-jumandic.\n",
            "Preparing to unpack .../07-mecab-jumandic_7.0-20130310-4_all.deb ...\n",
            "Unpacking mecab-jumandic (7.0-20130310-4) ...\n",
            "Selecting previously unselected package mecab-ipadic.\n",
            "Preparing to unpack .../08-mecab-ipadic_2.7.0-20070801+main-1_all.deb ...\n",
            "Unpacking mecab-ipadic (2.7.0-20070801+main-1) ...\n",
            "Selecting previously unselected package mecab.\n",
            "Preparing to unpack .../09-mecab_0.996-5_amd64.deb ...\n",
            "Unpacking mecab (0.996-5) ...\n",
            "Selecting previously unselected package mecab-ipadic-utf8.\n",
            "Preparing to unpack .../10-mecab-ipadic-utf8_2.7.0-20070801+main-1_all.deb ...\n",
            "Unpacking mecab-ipadic-utf8 (2.7.0-20070801+main-1) ...\n",
            "Setting up libmecab2:amd64 (0.996-5) ...\n",
            "Setting up libmagic-mgc (1:5.32-2ubuntu0.1) ...\n",
            "Setting up libmagic1:amd64 (1:5.32-2ubuntu0.1) ...\n",
            "Processing triggers for libc-bin (2.27-3ubuntu1) ...\n",
            "Processing triggers for man-db (2.8.3-2ubuntu0.1) ...\n",
            "Setting up mecab-utils (0.996-5) ...\n",
            "Setting up mecab-ipadic (2.7.0-20070801+main-1) ...\n",
            "Compiling IPA dictionary for Mecab.  This takes long time...\n",
            "reading /usr/share/mecab/dic/ipadic/unk.def ... 40\n",
            "emitting double-array: 100% |###########################################| \n",
            "/usr/share/mecab/dic/ipadic/model.def is not found. skipped.\n",
            "reading /usr/share/mecab/dic/ipadic/Auxil.csv ... 199\n",
            "reading /usr/share/mecab/dic/ipadic/Noun.others.csv ... 151\n",
            "reading /usr/share/mecab/dic/ipadic/Prefix.csv ... 221\n",
            "reading /usr/share/mecab/dic/ipadic/Noun.adjv.csv ... 3328\n",
            "reading /usr/share/mecab/dic/ipadic/Verb.csv ... 130750\n",
            "reading /usr/share/mecab/dic/ipadic/Noun.nai.csv ... 42\n",
            "reading /usr/share/mecab/dic/ipadic/Noun.demonst.csv ... 120\n",
            "reading /usr/share/mecab/dic/ipadic/Postp-col.csv ... 91\n",
            "reading /usr/share/mecab/dic/ipadic/Filler.csv ... 19\n",
            "reading /usr/share/mecab/dic/ipadic/Suffix.csv ... 1393\n",
            "reading /usr/share/mecab/dic/ipadic/Noun.proper.csv ... 27327\n",
            "reading /usr/share/mecab/dic/ipadic/Conjunction.csv ... 171\n",
            "reading /usr/share/mecab/dic/ipadic/Symbol.csv ... 208\n",
            "reading /usr/share/mecab/dic/ipadic/Others.csv ... 2\n",
            "reading /usr/share/mecab/dic/ipadic/Noun.adverbal.csv ... 795\n",
            "reading /usr/share/mecab/dic/ipadic/Adj.csv ... 27210\n",
            "reading /usr/share/mecab/dic/ipadic/Interjection.csv ... 252\n",
            "reading /usr/share/mecab/dic/ipadic/Noun.place.csv ... 72999\n",
            "reading /usr/share/mecab/dic/ipadic/Noun.number.csv ... 42\n",
            "reading /usr/share/mecab/dic/ipadic/Noun.org.csv ... 16668\n",
            "reading /usr/share/mecab/dic/ipadic/Adnominal.csv ... 135\n",
            "reading /usr/share/mecab/dic/ipadic/Noun.name.csv ... 34202\n",
            "reading /usr/share/mecab/dic/ipadic/Noun.csv ... 60477\n",
            "reading /usr/share/mecab/dic/ipadic/Adverb.csv ... 3032\n",
            "reading /usr/share/mecab/dic/ipadic/Postp.csv ... 146\n",
            "reading /usr/share/mecab/dic/ipadic/Noun.verbal.csv ... 12146\n",
            "emitting double-array: 100% |###########################################| \n",
            "reading /usr/share/mecab/dic/ipadic/matrix.def ... 1316x1316\n",
            "emitting matrix      : 100% |###########################################| \n",
            "\n",
            "done!\n",
            "update-alternatives: using /var/lib/mecab/dic/ipadic to provide /var/lib/mecab/dic/debian (mecab-dictionary) in auto mode\n",
            "Setting up libmecab-dev (0.996-5) ...\n",
            "Setting up file (1:5.32-2ubuntu0.1) ...\n",
            "Setting up mecab-jumandic-utf8 (7.0-20130310-4) ...\n",
            "Compiling Juman dictionary for Mecab.\n",
            "reading /usr/share/mecab/dic/juman/unk.def ... 37\n",
            "emitting double-array: 100% |###########################################| \n",
            "reading /usr/share/mecab/dic/juman/Prefix.csv ... 90\n",
            "reading /usr/share/mecab/dic/juman/Wikipedia.csv ... 167709\n",
            "reading /usr/share/mecab/dic/juman/Emoticon.csv ... 972\n",
            "reading /usr/share/mecab/dic/juman/Noun.suusi.csv ... 49\n",
            "reading /usr/share/mecab/dic/juman/Suffix.csv ... 2128\n",
            "reading /usr/share/mecab/dic/juman/AuxV.csv ... 593\n",
            "reading /usr/share/mecab/dic/juman/ContentW.csv ... 551145\n",
            "reading /usr/share/mecab/dic/juman/Special.csv ... 158\n",
            "reading /usr/share/mecab/dic/juman/Noun.keishiki.csv ... 8\n",
            "reading /usr/share/mecab/dic/juman/Assert.csv ... 34\n",
            "reading /usr/share/mecab/dic/juman/Rengo.csv ... 1118\n",
            "reading /usr/share/mecab/dic/juman/Auto.csv ... 18931\n",
            "reading /usr/share/mecab/dic/juman/Noun.koyuu.csv ... 7964\n",
            "reading /usr/share/mecab/dic/juman/Demonstrative.csv ... 97\n",
            "reading /usr/share/mecab/dic/juman/Noun.hukusi.csv ... 81\n",
            "reading /usr/share/mecab/dic/juman/Postp.csv ... 108\n",
            "emitting double-array: 100% |###########################################| \n",
            "reading /usr/share/mecab/dic/juman/matrix.def ... 1876x1876\n",
            "emitting matrix      : 100% |###########################################| \n",
            "\n",
            "done!\n",
            "Setting up mecab-ipadic-utf8 (2.7.0-20070801+main-1) ...\n",
            "Compiling IPA dictionary for Mecab.  This takes long time...\n",
            "reading /usr/share/mecab/dic/ipadic/unk.def ... 40\n",
            "emitting double-array: 100% |###########################################| \n",
            "/usr/share/mecab/dic/ipadic/model.def is not found. skipped.\n",
            "reading /usr/share/mecab/dic/ipadic/Auxil.csv ... 199\n",
            "reading /usr/share/mecab/dic/ipadic/Noun.others.csv ... 151\n",
            "reading /usr/share/mecab/dic/ipadic/Prefix.csv ... 221\n",
            "reading /usr/share/mecab/dic/ipadic/Noun.adjv.csv ... 3328\n",
            "reading /usr/share/mecab/dic/ipadic/Verb.csv ... 130750\n",
            "reading /usr/share/mecab/dic/ipadic/Noun.nai.csv ... 42\n",
            "reading /usr/share/mecab/dic/ipadic/Noun.demonst.csv ... 120\n",
            "reading /usr/share/mecab/dic/ipadic/Postp-col.csv ... 91\n",
            "reading /usr/share/mecab/dic/ipadic/Filler.csv ... 19\n",
            "reading /usr/share/mecab/dic/ipadic/Suffix.csv ... 1393\n",
            "reading /usr/share/mecab/dic/ipadic/Noun.proper.csv ... 27327\n",
            "reading /usr/share/mecab/dic/ipadic/Conjunction.csv ... 171\n",
            "reading /usr/share/mecab/dic/ipadic/Symbol.csv ... 208\n",
            "reading /usr/share/mecab/dic/ipadic/Others.csv ... 2\n",
            "reading /usr/share/mecab/dic/ipadic/Noun.adverbal.csv ... 795\n",
            "reading /usr/share/mecab/dic/ipadic/Adj.csv ... 27210\n",
            "reading /usr/share/mecab/dic/ipadic/Interjection.csv ... 252\n",
            "reading /usr/share/mecab/dic/ipadic/Noun.place.csv ... 72999\n",
            "reading /usr/share/mecab/dic/ipadic/Noun.number.csv ... 42\n",
            "reading /usr/share/mecab/dic/ipadic/Noun.org.csv ... 16668\n",
            "reading /usr/share/mecab/dic/ipadic/Adnominal.csv ... 135\n",
            "reading /usr/share/mecab/dic/ipadic/Noun.name.csv ... 34202\n",
            "reading /usr/share/mecab/dic/ipadic/Noun.csv ... 60477\n",
            "reading /usr/share/mecab/dic/ipadic/Adverb.csv ... 3032\n",
            "reading /usr/share/mecab/dic/ipadic/Postp.csv ... 146\n",
            "reading /usr/share/mecab/dic/ipadic/Noun.verbal.csv ... 12146\n",
            "emitting double-array: 100% |###########################################| \n",
            "reading /usr/share/mecab/dic/ipadic/matrix.def ... 1316x1316\n",
            "emitting matrix      : 100% |###########################################| \n",
            "\n",
            "done!\n",
            "update-alternatives: using /var/lib/mecab/dic/ipadic-utf8 to provide /var/lib/mecab/dic/debian (mecab-dictionary) in auto mode\n",
            "Setting up mecab (0.996-5) ...\n",
            "Compiling IPA dictionary for Mecab.  This takes long time...\n",
            "reading /usr/share/mecab/dic/ipadic/unk.def ... 40\n",
            "emitting double-array: 100% |###########################################| \n",
            "/usr/share/mecab/dic/ipadic/model.def is not found. skipped.\n",
            "reading /usr/share/mecab/dic/ipadic/Auxil.csv ... 199\n",
            "reading /usr/share/mecab/dic/ipadic/Noun.others.csv ... 151\n",
            "reading /usr/share/mecab/dic/ipadic/Prefix.csv ... 221\n",
            "reading /usr/share/mecab/dic/ipadic/Noun.adjv.csv ... 3328\n",
            "reading /usr/share/mecab/dic/ipadic/Verb.csv ... 130750\n",
            "reading /usr/share/mecab/dic/ipadic/Noun.nai.csv ... 42\n",
            "reading /usr/share/mecab/dic/ipadic/Noun.demonst.csv ... 120\n",
            "reading /usr/share/mecab/dic/ipadic/Postp-col.csv ... 91\n",
            "reading /usr/share/mecab/dic/ipadic/Filler.csv ... 19\n",
            "reading /usr/share/mecab/dic/ipadic/Suffix.csv ... 1393\n",
            "reading /usr/share/mecab/dic/ipadic/Noun.proper.csv ... 27327\n",
            "reading /usr/share/mecab/dic/ipadic/Conjunction.csv ... 171\n",
            "reading /usr/share/mecab/dic/ipadic/Symbol.csv ... 208\n",
            "reading /usr/share/mecab/dic/ipadic/Others.csv ... 2\n",
            "reading /usr/share/mecab/dic/ipadic/Noun.adverbal.csv ... 795\n",
            "reading /usr/share/mecab/dic/ipadic/Adj.csv ... 27210\n",
            "reading /usr/share/mecab/dic/ipadic/Interjection.csv ... 252\n",
            "reading /usr/share/mecab/dic/ipadic/Noun.place.csv ... 72999\n",
            "reading /usr/share/mecab/dic/ipadic/Noun.number.csv ... 42\n",
            "reading /usr/share/mecab/dic/ipadic/Noun.org.csv ... 16668\n",
            "reading /usr/share/mecab/dic/ipadic/Adnominal.csv ... 135\n",
            "reading /usr/share/mecab/dic/ipadic/Noun.name.csv ... 34202\n",
            "reading /usr/share/mecab/dic/ipadic/Noun.csv ... 60477\n",
            "reading /usr/share/mecab/dic/ipadic/Adverb.csv ... 3032\n",
            "reading /usr/share/mecab/dic/ipadic/Postp.csv ... 146\n",
            "reading /usr/share/mecab/dic/ipadic/Noun.verbal.csv ... 12146\n",
            "emitting double-array: 100% |###########################################| \n",
            "reading /usr/share/mecab/dic/ipadic/matrix.def ... 1316x1316\n",
            "emitting matrix      : 100% |###########################################| \n",
            "\n",
            "done!\n",
            "Setting up mecab-jumandic (7.0-20130310-4) ...\n",
            "                            \n",
            "Collecting mecab-python3\n",
            "  Downloading https://files.pythonhosted.org/packages/ac/48/295efe525df40cbc2173748eb869290e81a57e835bc41f6d3834fc5dad5f/mecab-python3-0.996.1.tar.gz\n",
            "Building wheels for collected packages: mecab-python3\n",
            "  Running setup.py bdist_wheel for mecab-python3 ... \u001b[?25l-\b \b\\\b \b|\b \b/\b \b-\b \bdone\n",
            "\u001b[?25h  Stored in directory: /root/.cache/pip/wheels/73/71/4f/63a79925b5e9bb38932043917cc60140beb8022ac14a952b1e\n",
            "Successfully built mecab-python3\n",
            "Installing collected packages: mecab-python3\n",
            "Successfully installed mecab-python3-0.996.1\n"
          ],
          "name": "stdout"
        }
      ]
    },
    {
      "metadata": {
        "id": "n7pU2uZlAaqF",
        "colab_type": "code",
        "outputId": "e5bcca7b-baa7-4b7d-85a9-ca7f73f434a6",
        "colab": {
          "base_uri": "https://localhost:8080/",
          "height": 194
        }
      },
      "cell_type": "code",
      "source": [
        "!pip install chainer\n",
        "!pip install cupy-cuda92"
      ],
      "execution_count": 4,
      "outputs": [
        {
          "output_type": "stream",
          "text": [
            "Requirement already satisfied: chainer in /usr/local/lib/python3.6/dist-packages (5.0.0)\n",
            "Requirement already satisfied: filelock in /usr/local/lib/python3.6/dist-packages (from chainer) (3.0.10)\n",
            "Requirement already satisfied: numpy>=1.9.0 in /usr/local/lib/python3.6/dist-packages (from chainer) (1.14.6)\n",
            "Requirement already satisfied: protobuf>=3.0.0 in /usr/local/lib/python3.6/dist-packages (from chainer) (3.6.1)\n",
            "Requirement already satisfied: six>=1.9.0 in /usr/local/lib/python3.6/dist-packages (from chainer) (1.11.0)\n",
            "Requirement already satisfied: setuptools in /usr/local/lib/python3.6/dist-packages (from protobuf>=3.0.0->chainer) (40.6.3)\n",
            "Requirement already satisfied: cupy-cuda92 in /usr/local/lib/python3.6/dist-packages (5.0.0)\n",
            "Requirement already satisfied: six>=1.9.0 in /usr/local/lib/python3.6/dist-packages (from cupy-cuda92) (1.11.0)\n",
            "Requirement already satisfied: fastrlock>=0.3 in /usr/local/lib/python3.6/dist-packages (from cupy-cuda92) (0.4)\n",
            "Requirement already satisfied: numpy>=1.9.0 in /usr/local/lib/python3.6/dist-packages (from cupy-cuda92) (1.14.6)\n"
          ],
          "name": "stdout"
        }
      ]
    },
    {
      "metadata": {
        "id": "JDcQxXmwAvur",
        "colab_type": "code",
        "outputId": "dd4f911e-9477-4e6f-efad-7bbc298e0b0f",
        "colab": {
          "base_uri": "https://localhost:8080/",
          "height": 35
        }
      },
      "cell_type": "code",
      "source": [
        "!pip install tqdm"
      ],
      "execution_count": 5,
      "outputs": [
        {
          "output_type": "stream",
          "text": [
            "Requirement already satisfied: tqdm in /usr/local/lib/python3.6/dist-packages (4.28.1)\n"
          ],
          "name": "stdout"
        }
      ]
    },
    {
      "metadata": {
        "id": "GnDvjI8ekzpC",
        "colab_type": "code",
        "outputId": "da305b6b-0076-4dab-a070-11a25e277c8d",
        "colab": {
          "base_uri": "https://localhost:8080/",
          "height": 212
        }
      },
      "cell_type": "code",
      "source": [
        "!wget http://www.cl.ecei.tohoku.ac.jp/nlp100/data/neko.txt"
      ],
      "execution_count": 6,
      "outputs": [
        {
          "output_type": "stream",
          "text": [
            "--2019-01-10 06:25:47--  http://www.cl.ecei.tohoku.ac.jp/nlp100/data/neko.txt\n",
            "Resolving www.cl.ecei.tohoku.ac.jp (www.cl.ecei.tohoku.ac.jp)... 130.34.192.83\n",
            "Connecting to www.cl.ecei.tohoku.ac.jp (www.cl.ecei.tohoku.ac.jp)|130.34.192.83|:80... connected.\n",
            "HTTP request sent, awaiting response... 200 OK\n",
            "Length: 965825 (943K) [text/plain]\n",
            "Saving to: ‘neko.txt’\n",
            "\n",
            "neko.txt            100%[===================>] 943.19K   687KB/s    in 1.4s    \n",
            "\n",
            "2019-01-10 06:25:49 (687 KB/s) - ‘neko.txt’ saved [965825/965825]\n",
            "\n"
          ],
          "name": "stdout"
        }
      ]
    },
    {
      "metadata": {
        "id": "ijfzjvuBA-CB",
        "colab_type": "text"
      },
      "cell_type": "markdown",
      "source": [
        "#wakati"
      ]
    },
    {
      "metadata": {
        "id": "owlwKYhuA5ye",
        "colab_type": "code",
        "colab": {}
      },
      "cell_type": "code",
      "source": [
        "from tqdm import tqdm\n",
        "import MeCab\n",
        "import numpy as np"
      ],
      "execution_count": 0,
      "outputs": []
    },
    {
      "metadata": {
        "id": "OfnWMlyZBEM6",
        "colab_type": "code",
        "colab": {}
      },
      "cell_type": "code",
      "source": [
        "mecab = MeCab.Tagger(\"-Ochasen\")"
      ],
      "execution_count": 0,
      "outputs": []
    },
    {
      "metadata": {
        "id": "iUmgDPUOBLG_",
        "colab_type": "code",
        "outputId": "17b9723a-93eb-47cd-953f-b07f9b8d01d5",
        "colab": {
          "resources": {
            "http://localhost:8080/nbextensions/google.colab/files.js": {
              "data": "Ly8gQ29weXJpZ2h0IDIwMTcgR29vZ2xlIExMQwovLwovLyBMaWNlbnNlZCB1bmRlciB0aGUgQXBhY2hlIExpY2Vuc2UsIFZlcnNpb24gMi4wICh0aGUgIkxpY2Vuc2UiKTsKLy8geW91IG1heSBub3QgdXNlIHRoaXMgZmlsZSBleGNlcHQgaW4gY29tcGxpYW5jZSB3aXRoIHRoZSBMaWNlbnNlLgovLyBZb3UgbWF5IG9idGFpbiBhIGNvcHkgb2YgdGhlIExpY2Vuc2UgYXQKLy8KLy8gICAgICBodHRwOi8vd3d3LmFwYWNoZS5vcmcvbGljZW5zZXMvTElDRU5TRS0yLjAKLy8KLy8gVW5sZXNzIHJlcXVpcmVkIGJ5IGFwcGxpY2FibGUgbGF3IG9yIGFncmVlZCB0byBpbiB3cml0aW5nLCBzb2Z0d2FyZQovLyBkaXN0cmlidXRlZCB1bmRlciB0aGUgTGljZW5zZSBpcyBkaXN0cmlidXRlZCBvbiBhbiAiQVMgSVMiIEJBU0lTLAovLyBXSVRIT1VUIFdBUlJBTlRJRVMgT1IgQ09ORElUSU9OUyBPRiBBTlkgS0lORCwgZWl0aGVyIGV4cHJlc3Mgb3IgaW1wbGllZC4KLy8gU2VlIHRoZSBMaWNlbnNlIGZvciB0aGUgc3BlY2lmaWMgbGFuZ3VhZ2UgZ292ZXJuaW5nIHBlcm1pc3Npb25zIGFuZAovLyBsaW1pdGF0aW9ucyB1bmRlciB0aGUgTGljZW5zZS4KCi8qKgogKiBAZmlsZW92ZXJ2aWV3IEhlbHBlcnMgZm9yIGdvb2dsZS5jb2xhYiBQeXRob24gbW9kdWxlLgogKi8KKGZ1bmN0aW9uKHNjb3BlKSB7CmZ1bmN0aW9uIHNwYW4odGV4dCwgc3R5bGVBdHRyaWJ1dGVzID0ge30pIHsKICBjb25zdCBlbGVtZW50ID0gZG9jdW1lbnQuY3JlYXRlRWxlbWVudCgnc3BhbicpOwogIGVsZW1lbnQudGV4dENvbnRlbnQgPSB0ZXh0OwogIGZvciAoY29uc3Qga2V5IG9mIE9iamVjdC5rZXlzKHN0eWxlQXR0cmlidXRlcykpIHsKICAgIGVsZW1lbnQuc3R5bGVba2V5XSA9IHN0eWxlQXR0cmlidXRlc1trZXldOwogIH0KICByZXR1cm4gZWxlbWVudDsKfQoKLy8gTWF4IG51bWJlciBvZiBieXRlcyB3aGljaCB3aWxsIGJlIHVwbG9hZGVkIGF0IGEgdGltZS4KY29uc3QgTUFYX1BBWUxPQURfU0laRSA9IDEwMCAqIDEwMjQ7Ci8vIE1heCBhbW91bnQgb2YgdGltZSB0byBibG9jayB3YWl0aW5nIGZvciB0aGUgdXNlci4KY29uc3QgRklMRV9DSEFOR0VfVElNRU9VVF9NUyA9IDMwICogMTAwMDsKCmZ1bmN0aW9uIF91cGxvYWRGaWxlcyhpbnB1dElkLCBvdXRwdXRJZCkgewogIGNvbnN0IHN0ZXBzID0gdXBsb2FkRmlsZXNTdGVwKGlucHV0SWQsIG91dHB1dElkKTsKICBjb25zdCBvdXRwdXRFbGVtZW50ID0gZG9jdW1lbnQuZ2V0RWxlbWVudEJ5SWQob3V0cHV0SWQpOwogIC8vIENhY2hlIHN0ZXBzIG9uIHRoZSBvdXRwdXRFbGVtZW50IHRvIG1ha2UgaXQgYXZhaWxhYmxlIGZvciB0aGUgbmV4dCBjYWxsCiAgLy8gdG8gdXBsb2FkRmlsZXNDb250aW51ZSBmcm9tIFB5dGhvbi4KICBvdXRwdXRFbGVtZW50LnN0ZXBzID0gc3RlcHM7CgogIHJldHVybiBfdXBsb2FkRmlsZXNDb250aW51ZShvdXRwdXRJZCk7Cn0KCi8vIFRoaXMgaXMgcm91Z2hseSBhbiBhc3luYyBnZW5lcmF0b3IgKG5vdCBzdXBwb3J0ZWQgaW4gdGhlIGJyb3dzZXIgeWV0KSwKLy8gd2hlcmUgdGhlcmUgYXJlIG11bHRpcGxlIGFzeW5jaHJvbm91cyBzdGVwcyBhbmQgdGhlIFB5dGhvbiBzaWRlIGlzIGdvaW5nCi8vIHRvIHBvbGwgZm9yIGNvbXBsZXRpb24gb2YgZWFjaCBzdGVwLgovLyBUaGlzIHVzZXMgYSBQcm9taXNlIHRvIGJsb2NrIHRoZSBweXRob24gc2lkZSBvbiBjb21wbGV0aW9uIG9mIGVhY2ggc3RlcCwKLy8gdGhlbiBwYXNzZXMgdGhlIHJlc3VsdCBvZiB0aGUgcHJldmlvdXMgc3RlcCBhcyB0aGUgaW5wdXQgdG8gdGhlIG5leHQgc3RlcC4KZnVuY3Rpb24gX3VwbG9hZEZpbGVzQ29udGludWUob3V0cHV0SWQpIHsKICBjb25zdCBvdXRwdXRFbGVtZW50ID0gZG9jdW1lbnQuZ2V0RWxlbWVudEJ5SWQob3V0cHV0SWQpOwogIGNvbnN0IHN0ZXBzID0gb3V0cHV0RWxlbWVudC5zdGVwczsKCiAgY29uc3QgbmV4dCA9IHN0ZXBzLm5leHQob3V0cHV0RWxlbWVudC5sYXN0UHJvbWlzZVZhbHVlKTsKICByZXR1cm4gUHJvbWlzZS5yZXNvbHZlKG5leHQudmFsdWUucHJvbWlzZSkudGhlbigodmFsdWUpID0+IHsKICAgIC8vIENhY2hlIHRoZSBsYXN0IHByb21pc2UgdmFsdWUgdG8gbWFrZSBpdCBhdmFpbGFibGUgdG8gdGhlIG5leHQKICAgIC8vIHN0ZXAgb2YgdGhlIGdlbmVyYXRvci4KICAgIG91dHB1dEVsZW1lbnQubGFzdFByb21pc2VWYWx1ZSA9IHZhbHVlOwogICAgcmV0dXJuIG5leHQudmFsdWUucmVzcG9uc2U7CiAgfSk7Cn0KCi8qKgogKiBHZW5lcmF0b3IgZnVuY3Rpb24gd2hpY2ggaXMgY2FsbGVkIGJldHdlZW4gZWFjaCBhc3luYyBzdGVwIG9mIHRoZSB1cGxvYWQKICogcHJvY2Vzcy4KICogQHBhcmFtIHtzdHJpbmd9IGlucHV0SWQgRWxlbWVudCBJRCBvZiB0aGUgaW5wdXQgZmlsZSBwaWNrZXIgZWxlbWVudC4KICogQHBhcmFtIHtzdHJpbmd9IG91dHB1dElkIEVsZW1lbnQgSUQgb2YgdGhlIG91dHB1dCBkaXNwbGF5LgogKiBAcmV0dXJuIHshSXRlcmFibGU8IU9iamVjdD59IEl0ZXJhYmxlIG9mIG5leHQgc3RlcHMuCiAqLwpmdW5jdGlvbiogdXBsb2FkRmlsZXNTdGVwKGlucHV0SWQsIG91dHB1dElkKSB7CiAgY29uc3QgaW5wdXRFbGVtZW50ID0gZG9jdW1lbnQuZ2V0RWxlbWVudEJ5SWQoaW5wdXRJZCk7CiAgaW5wdXRFbGVtZW50LmRpc2FibGVkID0gZmFsc2U7CgogIGNvbnN0IG91dHB1dEVsZW1lbnQgPSBkb2N1bWVudC5nZXRFbGVtZW50QnlJZChvdXRwdXRJZCk7CiAgb3V0cHV0RWxlbWVudC5pbm5lckhUTUwgPSAnJzsKCiAgY29uc3QgcGlja2VkUHJvbWlzZSA9IG5ldyBQcm9taXNlKChyZXNvbHZlKSA9PiB7CiAgICBpbnB1dEVsZW1lbnQuYWRkRXZlbnRMaXN0ZW5lcignY2hhbmdlJywgKGUpID0+IHsKICAgICAgcmVzb2x2ZShlLnRhcmdldC5maWxlcyk7CiAgICB9KTsKICB9KTsKCiAgY29uc3QgY2FuY2VsID0gZG9jdW1lbnQuY3JlYXRlRWxlbWVudCgnYnV0dG9uJyk7CiAgaW5wdXRFbGVtZW50LnBhcmVudEVsZW1lbnQuYXBwZW5kQ2hpbGQoY2FuY2VsKTsKICBjYW5jZWwudGV4dENvbnRlbnQgPSAnQ2FuY2VsIHVwbG9hZCc7CiAgY29uc3QgY2FuY2VsUHJvbWlzZSA9IG5ldyBQcm9taXNlKChyZXNvbHZlKSA9PiB7CiAgICBjYW5jZWwub25jbGljayA9ICgpID0+IHsKICAgICAgcmVzb2x2ZShudWxsKTsKICAgIH07CiAgfSk7CgogIC8vIENhbmNlbCB1cGxvYWQgaWYgdXNlciBoYXNuJ3QgcGlja2VkIGFueXRoaW5nIGluIHRpbWVvdXQuCiAgY29uc3QgdGltZW91dFByb21pc2UgPSBuZXcgUHJvbWlzZSgocmVzb2x2ZSkgPT4gewogICAgc2V0VGltZW91dCgoKSA9PiB7CiAgICAgIHJlc29sdmUobnVsbCk7CiAgICB9LCBGSUxFX0NIQU5HRV9USU1FT1VUX01TKTsKICB9KTsKCiAgLy8gV2FpdCBmb3IgdGhlIHVzZXIgdG8gcGljayB0aGUgZmlsZXMuCiAgY29uc3QgZmlsZXMgPSB5aWVsZCB7CiAgICBwcm9taXNlOiBQcm9taXNlLnJhY2UoW3BpY2tlZFByb21pc2UsIHRpbWVvdXRQcm9taXNlLCBjYW5jZWxQcm9taXNlXSksCiAgICByZXNwb25zZTogewogICAgICBhY3Rpb246ICdzdGFydGluZycsCiAgICB9CiAgfTsKCiAgaWYgKCFmaWxlcykgewogICAgcmV0dXJuIHsKICAgICAgcmVzcG9uc2U6IHsKICAgICAgICBhY3Rpb246ICdjb21wbGV0ZScsCiAgICAgIH0KICAgIH07CiAgfQoKICBjYW5jZWwucmVtb3ZlKCk7CgogIC8vIERpc2FibGUgdGhlIGlucHV0IGVsZW1lbnQgc2luY2UgZnVydGhlciBwaWNrcyBhcmUgbm90IGFsbG93ZWQuCiAgaW5wdXRFbGVtZW50LmRpc2FibGVkID0gdHJ1ZTsKCiAgZm9yIChjb25zdCBmaWxlIG9mIGZpbGVzKSB7CiAgICBjb25zdCBsaSA9IGRvY3VtZW50LmNyZWF0ZUVsZW1lbnQoJ2xpJyk7CiAgICBsaS5hcHBlbmQoc3BhbihmaWxlLm5hbWUsIHtmb250V2VpZ2h0OiAnYm9sZCd9KSk7CiAgICBsaS5hcHBlbmQoc3BhbigKICAgICAgICBgKCR7ZmlsZS50eXBlIHx8ICduL2EnfSkgLSAke2ZpbGUuc2l6ZX0gYnl0ZXMsIGAgKwogICAgICAgIGBsYXN0IG1vZGlmaWVkOiAkewogICAgICAgICAgICBmaWxlLmxhc3RNb2RpZmllZERhdGUgPyBmaWxlLmxhc3RNb2RpZmllZERhdGUudG9Mb2NhbGVEYXRlU3RyaW5nKCkgOgogICAgICAgICAgICAgICAgICAgICAgICAgICAgICAgICAgICAnbi9hJ30gLSBgKSk7CiAgICBjb25zdCBwZXJjZW50ID0gc3BhbignMCUgZG9uZScpOwogICAgbGkuYXBwZW5kQ2hpbGQocGVyY2VudCk7CgogICAgb3V0cHV0RWxlbWVudC5hcHBlbmRDaGlsZChsaSk7CgogICAgY29uc3QgZmlsZURhdGFQcm9taXNlID0gbmV3IFByb21pc2UoKHJlc29sdmUpID0+IHsKICAgICAgY29uc3QgcmVhZGVyID0gbmV3IEZpbGVSZWFkZXIoKTsKICAgICAgcmVhZGVyLm9ubG9hZCA9IChlKSA9PiB7CiAgICAgICAgcmVzb2x2ZShlLnRhcmdldC5yZXN1bHQpOwogICAgICB9OwogICAgICByZWFkZXIucmVhZEFzQXJyYXlCdWZmZXIoZmlsZSk7CiAgICB9KTsKICAgIC8vIFdhaXQgZm9yIHRoZSBkYXRhIHRvIGJlIHJlYWR5LgogICAgbGV0IGZpbGVEYXRhID0geWllbGQgewogICAgICBwcm9taXNlOiBmaWxlRGF0YVByb21pc2UsCiAgICAgIHJlc3BvbnNlOiB7CiAgICAgICAgYWN0aW9uOiAnY29udGludWUnLAogICAgICB9CiAgICB9OwoKICAgIC8vIFVzZSBhIGNodW5rZWQgc2VuZGluZyB0byBhdm9pZCBtZXNzYWdlIHNpemUgbGltaXRzLiBTZWUgYi82MjExNTY2MC4KICAgIGxldCBwb3NpdGlvbiA9IDA7CiAgICB3aGlsZSAocG9zaXRpb24gPCBmaWxlRGF0YS5ieXRlTGVuZ3RoKSB7CiAgICAgIGNvbnN0IGxlbmd0aCA9IE1hdGgubWluKGZpbGVEYXRhLmJ5dGVMZW5ndGggLSBwb3NpdGlvbiwgTUFYX1BBWUxPQURfU0laRSk7CiAgICAgIGNvbnN0IGNodW5rID0gbmV3IFVpbnQ4QXJyYXkoZmlsZURhdGEsIHBvc2l0aW9uLCBsZW5ndGgpOwogICAgICBwb3NpdGlvbiArPSBsZW5ndGg7CgogICAgICBjb25zdCBiYXNlNjQgPSBidG9hKFN0cmluZy5mcm9tQ2hhckNvZGUuYXBwbHkobnVsbCwgY2h1bmspKTsKICAgICAgeWllbGQgewogICAgICAgIHJlc3BvbnNlOiB7CiAgICAgICAgICBhY3Rpb246ICdhcHBlbmQnLAogICAgICAgICAgZmlsZTogZmlsZS5uYW1lLAogICAgICAgICAgZGF0YTogYmFzZTY0LAogICAgICAgIH0sCiAgICAgIH07CiAgICAgIHBlcmNlbnQudGV4dENvbnRlbnQgPQogICAgICAgICAgYCR7TWF0aC5yb3VuZCgocG9zaXRpb24gLyBmaWxlRGF0YS5ieXRlTGVuZ3RoKSAqIDEwMCl9JSBkb25lYDsKICAgIH0KICB9CgogIC8vIEFsbCBkb25lLgogIHlpZWxkIHsKICAgIHJlc3BvbnNlOiB7CiAgICAgIGFjdGlvbjogJ2NvbXBsZXRlJywKICAgIH0KICB9Owp9CgpzY29wZS5nb29nbGUgPSBzY29wZS5nb29nbGUgfHwge307CnNjb3BlLmdvb2dsZS5jb2xhYiA9IHNjb3BlLmdvb2dsZS5jb2xhYiB8fCB7fTsKc2NvcGUuZ29vZ2xlLmNvbGFiLl9maWxlcyA9IHsKICBfdXBsb2FkRmlsZXMsCiAgX3VwbG9hZEZpbGVzQ29udGludWUsCn07Cn0pKHNlbGYpOwo=",
              "ok": true,
              "headers": [
                [
                  "content-type",
                  "application/javascript"
                ]
              ],
              "status": 200,
              "status_text": "OK"
            }
          },
          "base_uri": "https://localhost:8080/",
          "height": 76
        }
      },
      "cell_type": "code",
      "source": [
        "from google.colab import files\n",
        "uploaded = files.upload()"
      ],
      "execution_count": 0,
      "outputs": [
        {
          "output_type": "display_data",
          "data": {
            "text/html": [
              "\n",
              "     <input type=\"file\" id=\"files-5c3140f2-018e-411b-a510-1294ad1a092e\" name=\"files[]\" multiple disabled />\n",
              "     <output id=\"result-5c3140f2-018e-411b-a510-1294ad1a092e\">\n",
              "      Upload widget is only available when the cell has been executed in the\n",
              "      current browser session. Please rerun this cell to enable.\n",
              "      </output>\n",
              "      <script src=\"/nbextensions/google.colab/files.js\"></script> "
            ],
            "text/plain": [
              "<IPython.core.display.HTML object>"
            ]
          },
          "metadata": {
            "tags": []
          }
        },
        {
          "output_type": "stream",
          "text": [
            "Saving natsume_c.txt to natsume_c.txt\n"
          ],
          "name": "stdout"
        }
      ]
    },
    {
      "metadata": {
        "id": "-PgJeMMMBQhD",
        "colab_type": "code",
        "colab": {}
      },
      "cell_type": "code",
      "source": [
        "text = open(\"neko.txt\").readlines()"
      ],
      "execution_count": 0,
      "outputs": []
    },
    {
      "metadata": {
        "id": "ard0yK2bBTR6",
        "colab_type": "code",
        "outputId": "75671b47-59ec-4fdb-f55b-ffa329664dc5",
        "colab": {
          "base_uri": "https://localhost:8080/",
          "height": 35
        }
      },
      "cell_type": "code",
      "source": [
        "wakati = []\n",
        "for t in tqdm(text):\n",
        "  for row in mecab.parse(t).split(\"\\n\"):\n",
        "    row = row.split(\"\\t\")\n",
        "    if len(row) > 3:\n",
        "      wakati.append(row[0])"
      ],
      "execution_count": 10,
      "outputs": [
        {
          "output_type": "stream",
          "text": [
            "100%|██████████| 9964/9964 [00:00<00:00, 15774.57it/s]\n"
          ],
          "name": "stderr"
        }
      ]
    },
    {
      "metadata": {
        "id": "hfmG-PJ9BfVJ",
        "colab_type": "code",
        "colab": {}
      },
      "cell_type": "code",
      "source": [
        "wakati = np.array(wakati)"
      ],
      "execution_count": 0,
      "outputs": []
    },
    {
      "metadata": {
        "id": "a9C4Ac8iWH4M",
        "colab_type": "code",
        "outputId": "9b68898e-5554-431b-c59a-55114b9c59ed",
        "colab": {
          "base_uri": "https://localhost:8080/",
          "height": 35
        }
      },
      "cell_type": "code",
      "source": [
        "from collections import defaultdict\n",
        "word2id = defaultdict(lambda: len(word2id))\n",
        "for w in wakati:\n",
        "  word2id[w]\n",
        "  \n",
        "len(word2id)"
      ],
      "execution_count": 12,
      "outputs": [
        {
          "output_type": "execute_result",
          "data": {
            "text/plain": [
              "13584"
            ]
          },
          "metadata": {
            "tags": []
          },
          "execution_count": 12
        }
      ]
    },
    {
      "metadata": {
        "id": "7kkSmF1tWzoK",
        "colab_type": "code",
        "outputId": "a3259376-0ab0-4035-a3b2-5b8012ab6092",
        "colab": {
          "base_uri": "https://localhost:8080/",
          "height": 35
        }
      },
      "cell_type": "code",
      "source": [
        "id2word = {i:w for w,i in word2id.items()}\n",
        "len(id2word)"
      ],
      "execution_count": 13,
      "outputs": [
        {
          "output_type": "execute_result",
          "data": {
            "text/plain": [
              "13584"
            ]
          },
          "metadata": {
            "tags": []
          },
          "execution_count": 13
        }
      ]
    },
    {
      "metadata": {
        "id": "2H6lTwOoW58H",
        "colab_type": "code",
        "outputId": "13605925-f7c0-482f-b5f1-359ffacd413f",
        "colab": {
          "base_uri": "https://localhost:8080/",
          "height": 52
        }
      },
      "cell_type": "code",
      "source": [
        "_wakati = wakati[1:]\n",
        "_wakati = _wakati[_wakati != \"\\u3000\"]\n",
        "sentences = []\n",
        "st = 0\n",
        "for i,w in enumerate(_wakati):\n",
        "  if w == \"。\":\n",
        "    sentences.append(_wakati[st:i+1])\n",
        "    st = i + 1\n",
        "    \n",
        "print(len(sentences))\n",
        "sentences[0]"
      ],
      "execution_count": 14,
      "outputs": [
        {
          "output_type": "stream",
          "text": [
            "7486\n"
          ],
          "name": "stdout"
        },
        {
          "output_type": "execute_result",
          "data": {
            "text/plain": [
              "array(['吾輩', 'は', '猫', 'で', 'ある', '。'], dtype='<U25')"
            ]
          },
          "metadata": {
            "tags": []
          },
          "execution_count": 14
        }
      ]
    },
    {
      "metadata": {
        "id": "pbCLDL12XO79",
        "colab_type": "code",
        "outputId": "8c620bec-3127-4fe8-cb9c-4780df66b6dd",
        "colab": {
          "base_uri": "https://localhost:8080/",
          "height": 35
        }
      },
      "cell_type": "code",
      "source": [
        "def wlist_to_id(sen):\n",
        "  return [word2id[w] for w in sen]\n",
        "\n",
        "train_data = [wlist_to_id(sen) for sen in sentences]\n",
        "train_data[0]"
      ],
      "execution_count": 16,
      "outputs": [
        {
          "output_type": "execute_result",
          "data": {
            "text/plain": [
              "[2, 3, 4, 5, 6, 7]"
            ]
          },
          "metadata": {
            "tags": []
          },
          "execution_count": 16
        }
      ]
    },
    {
      "metadata": {
        "id": "UF86YLzqXbJk",
        "colab_type": "text"
      },
      "cell_type": "markdown",
      "source": [
        "#network"
      ]
    },
    {
      "metadata": {
        "id": "JRgKRLzwXXkJ",
        "colab_type": "code",
        "colab": {}
      },
      "cell_type": "code",
      "source": [
        "import chainer\n",
        "from chainer.backends import cuda\n",
        "from chainer import Function, gradient_check, report, training, utils, Variable\n",
        "from chainer import datasets, iterators, optimizers, serializers\n",
        "from chainer import Link, Chain, ChainList\n",
        "import chainer.functions as F\n",
        "import chainer.links as L\n",
        "from chainer.training import extensions\n",
        "import cupy as cp\n",
        "import random\n",
        "import copy"
      ],
      "execution_count": 0,
      "outputs": []
    },
    {
      "metadata": {
        "id": "xv9m2_VkX3XM",
        "colab_type": "code",
        "colab": {}
      },
      "cell_type": "code",
      "source": [
        "class SentenceGenerator(Chain):\n",
        "  def __init__(self, vocab_size, n_embed=100, n_mid=400):\n",
        "    super().__init__()\n",
        "    with super().init_scope():\n",
        "      self.embed = L.EmbedID(vocab_size, n_embed)\n",
        "      self.lstm = L.NStepLSTM(n_layers=2, in_size=n_embed, out_size=n_mid, dropout=0)\n",
        "      self.out = L.Linear(n_mid, vocab_size)\n",
        "      \n",
        "  def __call__(self, list_of_sentences):\n",
        "    xs = [self.embed(Variable(sen[ :-1])) for sen in list_of_sentences]\n",
        "    ts = [           Variable(sen[1:  ])  for sen in list_of_sentences]\n",
        "    \n",
        "    hs, cs, ys = self.lstm(None, None, xs)\n",
        "    loss = 0.0\n",
        "    for y, t in zip(ys,ts):\n",
        "      z = self.out(y)\n",
        "      loss += F.softmax_cross_entropy(z, t)\n",
        "    return loss\n",
        "  \n",
        "  def predict(self, prefix):\n",
        "    xs = [self.embed(Variable(prefix))]\n",
        "    hs, cs, ys = self.lstm(None, None, xs)\n",
        "    y = ys[0]\n",
        "    z = self.out(y)\n",
        "    return F.softmax(z)[-1].data"
      ],
      "execution_count": 0,
      "outputs": []
    },
    {
      "metadata": {
        "id": "SftHocumZrkV",
        "colab_type": "code",
        "outputId": "550d3f4e-42ec-4b44-f885-f4e69580211c",
        "colab": {
          "base_uri": "https://localhost:8080/",
          "height": 35
        }
      },
      "cell_type": "code",
      "source": [
        "model = SentenceGenerator(vocab_size=len(word2id))\n",
        "model.to_gpu(0)\n",
        "\n",
        "optimizer = optimizers.Adam()\n",
        "optimizer.setup(model)"
      ],
      "execution_count": 19,
      "outputs": [
        {
          "output_type": "execute_result",
          "data": {
            "text/plain": [
              "<chainer.optimizers.adam.Adam at 0x7fc54c637940>"
            ]
          },
          "metadata": {
            "tags": []
          },
          "execution_count": 19
        }
      ]
    },
    {
      "metadata": {
        "id": "R0B0s0_9Z4d1",
        "colab_type": "text"
      },
      "cell_type": "markdown",
      "source": [
        "#学習"
      ]
    },
    {
      "metadata": {
        "id": "8kVrRKBiZ2R5",
        "colab_type": "code",
        "outputId": "a9461655-0980-48b0-f10f-773fd10755ff",
        "colab": {
          "base_uri": "https://localhost:8080/",
          "height": 372
        }
      },
      "cell_type": "code",
      "source": [
        "from tqdm import trange\n",
        "\n",
        "batchsize = 128\n",
        "for epoch in range(10): #学習回数\n",
        "  shuffled = np.random.permutation(len(train_data))\n",
        "  sum_loss = 0.0\n",
        "  n=0\n",
        "  \n",
        "  for i in trange(0, len(train_data), batchsize):\n",
        "    ids = shuffled[i:i+batchsize]\n",
        "    xs = [cp.array(train_data[i]) for i in ids]\n",
        "    \n",
        "    model.cleargrads()\n",
        "    loss = model(xs)\n",
        "    loss.backward()\n",
        "    optimizer.update()\n",
        "    \n",
        "    sum_loss += loss.data\n",
        "    #print(loss.data)\n",
        "    n += len(ids)\n",
        "    \n",
        "  print(\"Epoch {} : loss {}\".format(epoch, sum_loss / n))"
      ],
      "execution_count": 28,
      "outputs": [
        {
          "output_type": "stream",
          "text": [
            "100%|██████████| 59/59 [00:36<00:00,  1.89it/s]\n",
            "  0%|          | 0/59 [00:00<?, ?it/s]"
          ],
          "name": "stderr"
        },
        {
          "output_type": "stream",
          "text": [
            "Epoch 0 : loss 6.0179057\n"
          ],
          "name": "stdout"
        },
        {
          "output_type": "stream",
          "text": [
            "100%|██████████| 59/59 [00:36<00:00,  1.91it/s]\n",
            "  0%|          | 0/59 [00:00<?, ?it/s]"
          ],
          "name": "stderr"
        },
        {
          "output_type": "stream",
          "text": [
            "Epoch 1 : loss 5.578831\n"
          ],
          "name": "stdout"
        },
        {
          "output_type": "stream",
          "text": [
            "100%|██████████| 59/59 [00:36<00:00,  1.93it/s]\n",
            "  0%|          | 0/59 [00:00<?, ?it/s]"
          ],
          "name": "stderr"
        },
        {
          "output_type": "stream",
          "text": [
            "Epoch 2 : loss 5.291899\n"
          ],
          "name": "stdout"
        },
        {
          "output_type": "stream",
          "text": [
            "100%|██████████| 59/59 [00:36<00:00,  1.90it/s]\n",
            "  0%|          | 0/59 [00:00<?, ?it/s]"
          ],
          "name": "stderr"
        },
        {
          "output_type": "stream",
          "text": [
            "Epoch 3 : loss 5.070691\n"
          ],
          "name": "stdout"
        },
        {
          "output_type": "stream",
          "text": [
            "100%|██████████| 59/59 [00:36<00:00,  1.91it/s]\n",
            "  0%|          | 0/59 [00:00<?, ?it/s]"
          ],
          "name": "stderr"
        },
        {
          "output_type": "stream",
          "text": [
            "Epoch 4 : loss 4.8825216\n"
          ],
          "name": "stdout"
        },
        {
          "output_type": "stream",
          "text": [
            "100%|██████████| 59/59 [00:36<00:00,  1.92it/s]\n",
            "  0%|          | 0/59 [00:00<?, ?it/s]"
          ],
          "name": "stderr"
        },
        {
          "output_type": "stream",
          "text": [
            "Epoch 5 : loss 4.71481\n"
          ],
          "name": "stdout"
        },
        {
          "output_type": "stream",
          "text": [
            "100%|██████████| 59/59 [00:36<00:00,  1.92it/s]\n",
            "  0%|          | 0/59 [00:00<?, ?it/s]"
          ],
          "name": "stderr"
        },
        {
          "output_type": "stream",
          "text": [
            "Epoch 6 : loss 4.560612\n"
          ],
          "name": "stdout"
        },
        {
          "output_type": "stream",
          "text": [
            "100%|██████████| 59/59 [00:36<00:00,  1.88it/s]\n",
            "  0%|          | 0/59 [00:00<?, ?it/s]"
          ],
          "name": "stderr"
        },
        {
          "output_type": "stream",
          "text": [
            "Epoch 7 : loss 4.4147205\n"
          ],
          "name": "stdout"
        },
        {
          "output_type": "stream",
          "text": [
            "100%|██████████| 59/59 [00:36<00:00,  1.92it/s]\n",
            "  0%|          | 0/59 [00:00<?, ?it/s]"
          ],
          "name": "stderr"
        },
        {
          "output_type": "stream",
          "text": [
            "Epoch 8 : loss 4.2728195\n"
          ],
          "name": "stdout"
        },
        {
          "output_type": "stream",
          "text": [
            "100%|██████████| 59/59 [00:36<00:00,  1.92it/s]"
          ],
          "name": "stderr"
        },
        {
          "output_type": "stream",
          "text": [
            "Epoch 9 : loss 4.132431\n"
          ],
          "name": "stdout"
        },
        {
          "output_type": "stream",
          "text": [
            "\n"
          ],
          "name": "stderr"
        }
      ]
    },
    {
      "metadata": {
        "id": "ucZg0ivUbJ00",
        "colab_type": "text"
      },
      "cell_type": "markdown",
      "source": [
        "#生成\n",
        "引数はsen, 最初の生成で上位いくつワードを取ってくるか, 以降の生成回数"
      ]
    },
    {
      "metadata": {
        "id": "67rKlY6yaf7V",
        "colab_type": "code",
        "colab": {}
      },
      "cell_type": "code",
      "source": [
        "from janome.tokenizer import Tokenizer\n",
        "import re"
      ],
      "execution_count": 0,
      "outputs": []
    },
    {
      "metadata": {
        "id": "a2ReVkTebNnO",
        "colab_type": "code",
        "colab": {}
      },
      "cell_type": "code",
      "source": [
        "def first(sen, seisei):\n",
        "  keeplist = []\n",
        "  result = []\n",
        "  \n",
        "  for i in range(1):\n",
        "    with chainer.using_config(\"train\", False):\n",
        "      pr = model.predict(cp.array(sen))\n",
        "    pr = chainer.cuda.to_cpu(pr)\n",
        "    pr = np.argsort(pr)[::-1]\n",
        "    \n",
        "    for j in range(seisei):\n",
        "      sen1 = copy.deepcopy(sen)\n",
        "      sen1.append(int(pr[j]))\n",
        "      keeplist.append(sen1)\n",
        "      \n",
        "  t = Tokenizer()\n",
        "  wordcount = 0\n",
        "  word = \"\"\n",
        "  for i in range(len(keeplist)):\n",
        "    s = \"\".join([id2word[i] for i in keeplist[i]])\n",
        "    for token in t.tokenize(s, stream=True):\n",
        "      match = re.search(r\"[ャュョヮ]\", token.reading)\n",
        "      wordcount += (len(token.reading))\n",
        "      if match:\n",
        "        wordcount -= (len(re.findall(r\"[ャュョヮ]\", token.reading)))\n",
        "    if wordcount == 5:\n",
        "      word = (token.part_of_speech.split(\",\")[0])\n",
        "      if word == \"助詞\":\n",
        "        result.append(keeplist[i])\n",
        "    wordcount = 0\n",
        "    word = \"\"\n",
        "    \n",
        "  return result"
      ],
      "execution_count": 0,
      "outputs": []
    },
    {
      "metadata": {
        "id": "K03ZVnQdccz-",
        "colab_type": "code",
        "colab": {}
      },
      "cell_type": "code",
      "source": [
        "def second(sen, seisei, repeat):\n",
        "  keeplist = []\n",
        "  result = []\n",
        "  \n",
        "  for i in range(1):\n",
        "    with chainer.using_config(\"train\", False):\n",
        "      pr = model.predict(cp.array(sen))\n",
        "    pr = chainer.cuda.to_cpu(pr)\n",
        "    pr = np.argsort(pr)[::-1]\n",
        "    \n",
        "    for j in range(seisei):\n",
        "      sen1 = copy.deepcopy(sen)\n",
        "      sen1.append(int(pr[j]))\n",
        "      keeplist.append(sen1)\n",
        "      \n",
        "  for i in range(repeat):\n",
        "    with chainer.using_config(\"train\", False):\n",
        "      sen = copy.deepcopy(keeplist[i])\n",
        "      pr = model.predict(cp.array(sen))\n",
        "    pr = chainer.cuda.to_cpu(pr)\n",
        "    pr = np.argsort(pr)[::-1]\n",
        "    \n",
        "    for j in range(seisei):\n",
        "      sen1 = copy.deepcopy(sen)\n",
        "      sen1.append(int(pr[j]))\n",
        "      keeplist.append(sen1)\n",
        "      \n",
        "  t = Tokenizer()\n",
        "  wordcount = 0\n",
        "  word = \"\"\n",
        "  for i in range(len(keeplist)):\n",
        "    s = \"\".join([id2word[i] for i in keeplist[i]])\n",
        "    for token in t.tokenize(s, stream=True):\n",
        "      match = re.search(r\"[ャュョヮ]\", token.reading)\n",
        "      wordcount += (len(token.reading))\n",
        "      if match:\n",
        "        wordcount -= (len(re.findall(r\"[ャュョヮ]\", token.reading)))\n",
        "    if wordcount == 12:\n",
        "      word = (token.part_of_speech.split(\",\")[0])\n",
        "      if word == \"助詞\":\n",
        "        result.append(keeplist[i])\n",
        "    wordcount = 0\n",
        "    word = \"\"\n",
        "    \n",
        "  return result"
      ],
      "execution_count": 0,
      "outputs": []
    },
    {
      "metadata": {
        "id": "kc2wxAJBekDW",
        "colab_type": "code",
        "colab": {}
      },
      "cell_type": "code",
      "source": [
        "def third(sen, seisei, repeat):\n",
        "  keeplist = []\n",
        "  result = []\n",
        "  \n",
        "  for i in range(1):\n",
        "    with chainer.using_config(\"train\", False):\n",
        "      pr = model.predict(cp.array(sen))\n",
        "    pr = chainer.cuda.to_cpu(pr)\n",
        "    pr = np.argsort(pr)[::-1]\n",
        "    \n",
        "    for j in range(seisei):\n",
        "      sen1 = copy.deepcopy(sen)\n",
        "      sen1.append(int(pr[j]))\n",
        "      keeplist.append(sen1)\n",
        "      \n",
        "  for i in range(repeat):\n",
        "    with chainer.using_config(\"train\", False):\n",
        "      sen = copy.deepcopy(keeplist[i])\n",
        "      pr = model.predict(cp.array(sen))\n",
        "    pr = chainer.cuda.to_cpu(pr)\n",
        "    pr = np.argsort(pr)[::-1]\n",
        "    \n",
        "    for j in range(seisei):\n",
        "      sen1 = copy.deepcopy(sen)\n",
        "      sen1.append(int(pr[j]))\n",
        "      keeplist.append(sen1)\n",
        "      \n",
        "  t = Tokenizer()\n",
        "  wordcount = 0\n",
        "  word = \"\"\n",
        "  for i in range(len(keeplist)):\n",
        "    s = \"\".join([id2word[i] for i in keeplist[i]])\n",
        "    for token in t.tokenize(s, stream=True):\n",
        "      match = re.search(r\"[ャュョヮ]\", token.reading)\n",
        "      wordcount += (len(token.reading))\n",
        "      if match:\n",
        "        wordcount -= (len(re.findall(r\"[ャュョヮ]\", token.reading)))\n",
        "    if wordcount == 17:\n",
        "      word = (token.part_of_speech.split(\",\")[0])\n",
        "      #if word == \"助詞\":\n",
        "      result.append(keeplist[i])\n",
        "    wordcount = 0\n",
        "    word = \"\"\n",
        "    \n",
        "  return result"
      ],
      "execution_count": 0,
      "outputs": []
    },
    {
      "metadata": {
        "id": "-mRzerKHh-NJ",
        "colab_type": "code",
        "outputId": "0f3ebd67-b749-4fe5-e478-a59f1dd113c1",
        "colab": {
          "base_uri": "https://localhost:8080/",
          "height": 8815
        }
      },
      "cell_type": "code",
      "source": [
        "kari = []\n",
        "res2 = []\n",
        "res3 = []\n",
        "\n",
        "sen = [word2id[\"人間\"]]\n",
        "res = first(sen, 80)\n",
        "print(res)\n",
        "\n",
        "for i in range(len(res)):\n",
        "  sen = res[i]\n",
        "  kari = second(sen, 10, 20)\n",
        "  for j in range(len(kari)):\n",
        "    res2.append(kari[j])\n",
        "print(res2)\n",
        "\n",
        "for i in range(len(res2)):\n",
        "  sen = res2[i]\n",
        "  kari = third(sen, 10, 20)\n",
        "  for j in range(len(kari)):\n",
        "    res3.append(kari[j])\n",
        "print(res3)\n",
        "\n",
        "for i in range(len(res3)):\n",
        "  s = \"\".join([id2word[i] for i in res3[i]])\n",
        "  print(s)"
      ],
      "execution_count": 29,
      "outputs": [
        {
          "output_type": "stream",
          "text": [
            "[[35, 3], [35, 55], [35, 76], [35, 17], [35, 38], [35, 66], [35, 5], [35, 43], [35, 49], [35, 204], [35, 14], [35, 1106], [35, 558], [35, 102], [35, 28]]\n",
            "[[35, 3, 54, 1494, 68], [35, 3, 54, 820, 68], [35, 76, 3, 599, 3347], [35, 76, 3, 2, 68], [35, 76, 3, 2, 321], [35, 76, 3, 35, 21], [35, 66, 54, 820, 68], [35, 43, 3, 2, 68], [35, 43, 3, 2, 321], [35, 14, 43, 95, 372]]\n",
            "[[35, 3, 54, 1494, 68, 148, 2], [35, 3, 54, 1494, 68, 2, 55], [35, 3, 54, 1494, 68, 2, 3], [35, 3, 54, 1494, 68, 2, 76], [35, 3, 54, 1494, 68, 2, 38], [35, 3, 54, 1494, 68, 2, 17], [35, 3, 54, 1494, 68, 2, 66], [35, 3, 54, 1494, 68, 2, 5], [35, 3, 54, 1494, 68, 2, 43], [35, 3, 54, 1494, 68, 54, 194], [35, 3, 54, 1494, 68, 54, 820], [35, 3, 54, 1494, 68, 54, 369], [35, 3, 54, 1494, 68, 54, 1494], [35, 3, 54, 1494, 68, 63, 820], [35, 3, 54, 1494, 68, 63, 194], [35, 3, 54, 1494, 68, 63, 2912], [35, 3, 54, 1494, 68, 369, 68], [35, 3, 54, 1494, 68, 148, 63, 81], [35, 3, 54, 1494, 68, 148, 63, 86], [35, 3, 54, 1494, 68, 148, 63, 117], [35, 3, 54, 1494, 68, 148, 63, 399], [35, 3, 54, 1494, 68, 148, 63, 310], [35, 3, 54, 1494, 68, 148, 63, 46], [35, 3, 54, 1494, 68, 148, 54, 81], [35, 3, 54, 1494, 68, 148, 54, 399], [35, 3, 54, 1494, 68, 148, 54, 117], [35, 3, 54, 1494, 68, 148, 54, 86], [35, 3, 54, 1494, 68, 148, 54, 310], [35, 3, 54, 1494, 68, 148, 136, 68], [35, 3, 54, 1494, 68, 148, 136, 21], [35, 3, 54, 1494, 68, 148, 369, 55], [35, 3, 54, 1494, 68, 148, 369, 3], [35, 3, 54, 1494, 68, 148, 369, 17], [35, 3, 54, 1494, 68, 148, 369, 76], [35, 3, 54, 1494, 68, 148, 369, 66], [35, 3, 54, 1494, 68, 148, 369, 38], [35, 3, 54, 1494, 68, 148, 369, 5], [35, 3, 54, 1494, 68, 148, 369, 43], [35, 3, 54, 1494, 68, 148, 112, 43], [35, 3, 54, 1494, 68, 148, 112, 55], [35, 3, 54, 1494, 68, 148, 112, 76], [35, 3, 54, 1494, 68, 148, 112, 231], [35, 3, 54, 1494, 68, 148, 112, 3], [35, 3, 54, 1494, 68, 148, 605, 68], [35, 3, 54, 1494, 68, 148, 0, 399], [35, 3, 54, 1494, 68, 148, 0, 1048], [35, 3, 54, 1494, 68, 148, 0, 425], [35, 3, 54, 1494, 68, 148, 0, 1588], [35, 3, 54, 1494, 68, 148, 0, 231], [35, 3, 54, 1494, 68, 148, 0, 829], [35, 3, 54, 1494, 68, 148, 9, 354], [35, 3, 54, 1494, 68, 148, 9, 118], [35, 3, 54, 1494, 68, 148, 816, 55], [35, 3, 54, 1494, 68, 148, 816, 43], [35, 3, 54, 1494, 68, 148, 816, 5], [35, 3, 54, 1494, 68, 148, 816, 231], [35, 3, 54, 1494, 68, 148, 816, 76], [35, 3, 54, 820, 68, 148, 2], [35, 3, 54, 820, 68, 54, 194], [35, 3, 54, 820, 68, 54, 820], [35, 3, 54, 820, 68, 54, 1494], [35, 3, 54, 820, 68, 2, 55], [35, 3, 54, 820, 68, 2, 3], [35, 3, 54, 820, 68, 2, 76], [35, 3, 54, 820, 68, 2, 17], [35, 3, 54, 820, 68, 2, 38], [35, 3, 54, 820, 68, 2, 66], [35, 3, 54, 820, 68, 2, 5], [35, 3, 54, 820, 68, 2, 43], [35, 3, 54, 820, 68, 2, 204], [35, 3, 54, 820, 68, 148, 63, 81], [35, 3, 54, 820, 68, 148, 63, 117], [35, 3, 54, 820, 68, 148, 63, 86], [35, 3, 54, 820, 68, 148, 63, 399], [35, 3, 54, 820, 68, 148, 63, 310], [35, 3, 54, 820, 68, 148, 54, 81], [35, 3, 54, 820, 68, 148, 54, 399], [35, 3, 54, 820, 68, 148, 54, 117], [35, 3, 54, 820, 68, 148, 54, 282], [35, 3, 54, 820, 68, 148, 54, 140], [35, 3, 54, 820, 68, 148, 605, 68], [35, 3, 54, 820, 68, 148, 136, 21], [35, 3, 54, 820, 68, 148, 136, 68], [35, 3, 54, 820, 68, 148, 9, 354], [35, 3, 54, 820, 68, 148, 9, 118], [35, 3, 54, 820, 68, 148, 9, 52], [35, 3, 54, 820, 68, 148, 816, 55], [35, 3, 54, 820, 68, 148, 816, 231], [35, 3, 54, 820, 68, 148, 816, 43], [35, 3, 54, 820, 68, 148, 816, 5], [35, 3, 54, 820, 68, 148, 1066, 2427], [35, 3, 54, 820, 68, 148, 1066, 2141], [35, 3, 54, 820, 68, 148, 112, 55], [35, 3, 54, 820, 68, 148, 112, 43], [35, 3, 54, 820, 68, 148, 112, 1066], [35, 3, 54, 820, 68, 148, 112, 231], [35, 3, 54, 820, 68, 148, 112, 3], [35, 3, 54, 820, 68, 148, 52, 354], [35, 3, 54, 820, 68, 148, 52, 1896], [35, 76, 3, 599, 3347, 3, 35], [35, 76, 3, 599, 3347, 120, 67], [35, 76, 3, 599, 3347, 17, 118, 68], [35, 76, 3, 599, 3347, 17, 118, 37], [35, 76, 3, 599, 3347, 17, 118, 419], [35, 76, 3, 599, 3347, 17, 118, 117], [35, 76, 3, 599, 3347, 17, 6, 37], [35, 76, 3, 599, 3347, 17, 6, 690], [35, 76, 3, 599, 3347, 17, 6, 68], [35, 76, 3, 599, 3347, 17, 6, 419], [35, 76, 3, 599, 3347, 17, 6, 117], [35, 76, 3, 599, 3347, 17, 305, 118], [35, 76, 3, 599, 3347, 17, 305, 306], [35, 76, 3, 599, 3347, 17, 305, 149], [35, 76, 3, 599, 3347, 17, 24, 661], [35, 76, 3, 599, 3347, 17, 698, 7], [35, 76, 3, 599, 3347, 17, 698, 273], [35, 76, 3, 599, 3347, 17, 698, 43], [35, 76, 3, 599, 3347, 17, 698, 17], [35, 76, 3, 599, 3347, 17, 698, 55], [35, 76, 3, 599, 3347, 17, 698, 14], [35, 76, 3, 599, 3347, 17, 797, 1935], [35, 76, 3, 599, 3347, 17, 797, 382], [35, 76, 3, 599, 3347, 17, 797, 118], [35, 76, 3, 599, 3347, 17, 797, 1415], [35, 76, 3, 599, 3347, 17, 149, 37], [35, 76, 3, 599, 3347, 17, 149, 419], [35, 76, 3, 599, 3347, 17, 149, 117], [35, 76, 3, 599, 3347, 17, 149, 68], [35, 76, 3, 599, 3347, 17, 51, 118], [35, 76, 3, 599, 3347, 17, 51, 213], [35, 76, 3, 599, 3347, 17, 51, 1105], [35, 76, 3, 599, 3347, 17, 51, 382], [35, 76, 3, 599, 3347, 17, 51, 78], [35, 76, 3, 599, 3347, 17, 51, 1415], [35, 76, 3, 599, 3347, 17, 51, 306], [35, 76, 3, 599, 3347, 17, 148, 369], [35, 76, 3, 599, 3347, 17, 148, 112], [35, 76, 3, 599, 3347, 17, 148, 396], [35, 76, 3, 599, 3347, 17, 169, 661], [35, 76, 3, 2, 68, 3, 35], [35, 76, 3, 2, 68, 3, 2], [35, 76, 3, 2, 68, 3, 599], [35, 76, 3, 2, 68, 54, 194], [35, 76, 3, 2, 68, 54, 820], [35, 76, 3, 2, 68, 148, 2], [35, 76, 3, 2, 68, 2, 55], [35, 76, 3, 2, 68, 2, 3], [35, 76, 3, 2, 68, 2, 38], [35, 76, 3, 2, 68, 2, 17], [35, 76, 3, 2, 68, 2, 76], [35, 76, 3, 2, 68, 2, 66], [35, 76, 3, 2, 68, 2, 5], [35, 76, 3, 2, 68, 2, 43], [35, 76, 3, 2, 68, 2, 204], [35, 76, 3, 2, 68, 3, 54, 81], [35, 76, 3, 2, 68, 3, 54, 117], [35, 76, 3, 2, 68, 3, 54, 37], [35, 76, 3, 2, 68, 3, 54, 399], [35, 76, 3, 2, 68, 3, 54, 419], [35, 76, 3, 2, 68, 3, 54, 4353], [35, 76, 3, 2, 68, 3, 0, 399], [35, 76, 3, 2, 68, 3, 0, 1048], [35, 76, 3, 2, 68, 3, 0, 425], [35, 76, 3, 2, 68, 3, 0, 829], [35, 76, 3, 2, 68, 3, 0, 963], [35, 76, 3, 2, 68, 3, 0, 1588], [35, 76, 3, 2, 68, 3, 0, 3894], [35, 76, 3, 2, 68, 3, 4, 68], [35, 76, 3, 2, 68, 3, 4, 321], [35, 76, 3, 2, 68, 3, 369, 55], [35, 76, 3, 2, 68, 3, 369, 17], [35, 76, 3, 2, 68, 3, 369, 76], [35, 76, 3, 2, 68, 3, 369, 38], [35, 76, 3, 2, 68, 3, 369, 3], [35, 76, 3, 2, 68, 3, 369, 5], [35, 76, 3, 2, 68, 3, 369, 66], [35, 76, 3, 2, 68, 3, 369, 43], [35, 76, 3, 2, 68, 3, 369, 53], [35, 76, 3, 2, 68, 3, 118, 68], [35, 76, 3, 2, 68, 3, 118, 37], [35, 76, 3, 2, 68, 3, 118, 117], [35, 76, 3, 2, 68, 3, 118, 419], [35, 76, 3, 2, 68, 3, 148, 369], [35, 76, 3, 2, 68, 3, 148, 112], [35, 76, 3, 2, 68, 3, 148, 396], [35, 76, 3, 2, 68, 3, 148, 154], [35, 76, 3, 2, 68, 3, 6, 690], [35, 76, 3, 2, 68, 3, 6, 37], [35, 76, 3, 2, 68, 3, 6, 68], [35, 76, 3, 2, 68, 3, 6, 117], [35, 76, 3, 2, 68, 3, 6, 271], [35, 76, 3, 2, 68, 3, 6, 419], [35, 76, 3, 2, 321, 3, 35], [35, 76, 3, 2, 321, 3, 2], [35, 76, 3, 2, 321, 17, 2], [35, 76, 3, 2, 321, 17, 35], [35, 76, 3, 2, 321, 369, 68], [35, 76, 3, 2, 321, 2, 55], [35, 76, 3, 2, 321, 2, 3], [35, 76, 3, 2, 321, 2, 17], [35, 76, 3, 2, 321, 2, 38], [35, 76, 3, 2, 321, 2, 76], [35, 76, 3, 2, 321, 2, 66], [35, 76, 3, 2, 321, 2, 5], [35, 76, 3, 2, 321, 2, 43], [35, 76, 3, 2, 321, 4, 174], [35, 76, 3, 2, 321, 684, 635], [35, 76, 3, 2, 321, 684, 829], [35, 76, 3, 2, 321, 3, 54, 81], [35, 76, 3, 2, 321, 3, 54, 117], [35, 76, 3, 2, 321, 3, 54, 37], [35, 76, 3, 2, 321, 3, 54, 399], [35, 76, 3, 2, 321, 3, 54, 310], [35, 76, 3, 2, 321, 3, 54, 419], [35, 76, 3, 2, 321, 3, 54, 4], [35, 76, 3, 2, 321, 3, 4, 68], [35, 76, 3, 2, 321, 3, 6, 690], [35, 76, 3, 2, 321, 3, 6, 37], [35, 76, 3, 2, 321, 3, 6, 68], [35, 76, 3, 2, 321, 3, 6, 117], [35, 76, 3, 2, 321, 3, 6, 271], [35, 76, 3, 2, 321, 3, 369, 55], [35, 76, 3, 2, 321, 3, 369, 17], [35, 76, 3, 2, 321, 3, 369, 76], [35, 76, 3, 2, 321, 3, 369, 38], [35, 76, 3, 2, 321, 3, 369, 3], [35, 76, 3, 2, 321, 3, 369, 5], [35, 76, 3, 2, 321, 3, 369, 66], [35, 76, 3, 2, 321, 3, 369, 43], [35, 76, 3, 2, 321, 3, 369, 53], [35, 76, 3, 2, 321, 3, 118, 68], [35, 76, 3, 2, 321, 3, 118, 37], [35, 76, 3, 2, 321, 3, 118, 117], [35, 76, 3, 2, 321, 3, 118, 419], [35, 76, 3, 2, 321, 3, 1455, 38], [35, 76, 3, 2, 321, 3, 1455, 55], [35, 76, 3, 2, 321, 3, 1455, 43], [35, 76, 3, 2, 321, 3, 1455, 765], [35, 76, 3, 2, 321, 3, 1455, 148], [35, 76, 3, 2, 321, 3, 305, 118], [35, 76, 3, 2, 321, 3, 305, 1935], [35, 76, 3, 2, 321, 3, 305, 149], [35, 76, 3, 2, 321, 3, 305, 690], [35, 76, 3, 2, 321, 3, 148, 369], [35, 76, 3, 2, 321, 3, 148, 396], [35, 76, 3, 2, 321, 3, 148, 112], [35, 76, 3, 2, 321, 3, 148, 154], [35, 76, 3, 35, 21, 3, 35], [35, 76, 3, 35, 21, 3, 599], [35, 76, 3, 35, 21, 148, 2], [35, 76, 3, 35, 21, 148, 35], [35, 76, 3, 35, 21, 162, 194], [35, 76, 3, 35, 21, 54, 194], [35, 76, 3, 35, 21, 54, 820], [35, 76, 3, 35, 21, 54, 1494], [35, 76, 3, 35, 21, 6, 37, 3], [35, 76, 3, 35, 21, 6, 37, 5], [35, 76, 3, 35, 21, 6, 37, 17], [35, 76, 3, 35, 21, 6, 37, 14], [35, 76, 3, 35, 21, 6, 37, 53], [35, 76, 3, 35, 21, 6, 37, 43], [35, 76, 3, 35, 21, 6, 37, 38], [35, 76, 3, 35, 21, 6, 37, 55], [35, 76, 3, 35, 21, 6, 37, 76], [35, 76, 3, 35, 21, 6, 37, 66], [35, 76, 3, 35, 21, 6, 7, 68], [35, 76, 3, 35, 21, 6, 17, 6], [35, 76, 3, 35, 21, 6, 17, 371], [35, 76, 3, 35, 21, 6, 17, 51], [35, 76, 3, 35, 21, 6, 17, 120], [35, 76, 3, 35, 21, 6, 17, 54], [35, 76, 3, 35, 21, 6, 17, 305], [35, 76, 3, 35, 21, 6, 690, 43], [35, 76, 3, 35, 21, 6, 690, 7], [35, 76, 3, 35, 21, 6, 690, 17], [35, 76, 3, 35, 21, 6, 690, 14], [35, 76, 3, 35, 21, 6, 690, 5], [35, 76, 3, 35, 21, 6, 690, 49], [35, 76, 3, 35, 21, 6, 690, 76], [35, 76, 3, 35, 21, 6, 690, 55], [35, 76, 3, 35, 21, 6, 690, 38], [35, 76, 3, 35, 21, 6, 117, 17], [35, 76, 3, 35, 21, 6, 117, 3], [35, 76, 3, 35, 21, 6, 117, 38], [35, 76, 3, 35, 21, 6, 117, 76], [35, 76, 3, 35, 21, 6, 117, 66], [35, 76, 3, 35, 21, 6, 117, 5], [35, 76, 3, 35, 21, 6, 117, 53], [35, 76, 3, 35, 21, 6, 117, 55], [35, 76, 3, 35, 21, 6, 117, 43], [35, 76, 3, 35, 21, 6, 117, 102], [35, 76, 3, 35, 21, 6, 68, 148], [35, 76, 3, 35, 21, 6, 68, 639], [35, 76, 3, 35, 21, 6, 68, 5], [35, 76, 3, 35, 21, 6, 68, 43], [35, 76, 3, 35, 21, 6, 68, 66], [35, 76, 3, 35, 21, 6, 68, 14], [35, 76, 3, 35, 21, 6, 43, 354], [35, 76, 3, 35, 21, 6, 43, 183], [35, 76, 3, 35, 21, 6, 43, 277], [35, 76, 3, 35, 21, 6, 419, 49], [35, 76, 3, 35, 21, 6, 419, 76], [35, 76, 3, 35, 21, 6, 419, 53], [35, 76, 3, 35, 21, 6, 419, 5], [35, 76, 3, 35, 21, 6, 419, 17], [35, 76, 3, 35, 21, 6, 419, 38], [35, 76, 3, 35, 21, 6, 419, 43], [35, 76, 3, 35, 21, 6, 419, 55], [35, 76, 3, 35, 21, 6, 419, 14], [35, 76, 3, 35, 21, 6, 271, 5], [35, 76, 3, 35, 21, 6, 271, 43], [35, 76, 3, 35, 21, 6, 271, 148], [35, 76, 3, 35, 21, 6, 271, 53], [35, 76, 3, 35, 21, 6, 271, 49], [35, 76, 3, 35, 21, 6, 271, 93], [35, 76, 3, 35, 21, 6, 271, 76], [35, 76, 3, 35, 21, 6, 271, 38], [35, 76, 3, 35, 21, 6, 271, 28], [35, 66, 54, 820, 68, 148, 2], [35, 66, 54, 820, 68, 3, 35], [35, 66, 54, 820, 68, 3, 2], [35, 66, 54, 820, 68, 54, 194], [35, 66, 54, 820, 68, 54, 820], [35, 66, 54, 820, 68, 148, 63, 81], [35, 66, 54, 820, 68, 148, 63, 117], [35, 66, 54, 820, 68, 148, 63, 86], [35, 66, 54, 820, 68, 148, 63, 310], [35, 66, 54, 820, 68, 148, 63, 399], [35, 66, 54, 820, 68, 148, 63, 46], [35, 66, 54, 820, 68, 148, 54, 81], [35, 66, 54, 820, 68, 148, 54, 399], [35, 66, 54, 820, 68, 148, 54, 117], [35, 66, 54, 820, 68, 148, 54, 282], [35, 66, 54, 820, 68, 148, 605, 68], [35, 66, 54, 820, 68, 148, 136, 30], [35, 66, 54, 820, 68, 148, 136, 21], [35, 66, 54, 820, 68, 148, 369, 3], [35, 66, 54, 820, 68, 148, 369, 55], [35, 66, 54, 820, 68, 148, 369, 17], [35, 66, 54, 820, 68, 148, 369, 76], [35, 66, 54, 820, 68, 148, 369, 66], [35, 66, 54, 820, 68, 148, 369, 38], [35, 66, 54, 820, 68, 148, 369, 43], [35, 66, 54, 820, 68, 148, 369, 5], [35, 66, 54, 820, 68, 148, 112, 55], [35, 66, 54, 820, 68, 148, 112, 3], [35, 66, 54, 820, 68, 148, 112, 43], [35, 66, 54, 820, 68, 148, 112, 76], [35, 66, 54, 820, 68, 148, 112, 231], [35, 66, 54, 820, 68, 148, 0, 399], [35, 66, 54, 820, 68, 148, 0, 1048], [35, 66, 54, 820, 68, 148, 0, 425], [35, 66, 54, 820, 68, 148, 0, 1588], [35, 66, 54, 820, 68, 148, 0, 231], [35, 66, 54, 820, 68, 148, 0, 829], [35, 66, 54, 820, 68, 148, 0, 963], [35, 66, 54, 820, 68, 148, 1066, 2427], [35, 66, 54, 820, 68, 148, 1066, 2141], [35, 66, 54, 820, 68, 148, 9, 354], [35, 66, 54, 820, 68, 148, 9, 149], [35, 43, 3, 2, 68, 148, 2], [35, 43, 3, 2, 68, 54, 194], [35, 43, 3, 2, 68, 54, 820], [35, 43, 3, 2, 68, 54, 369], [35, 43, 3, 2, 68, 369, 68], [35, 43, 3, 2, 68, 2, 55], [35, 43, 3, 2, 68, 2, 3], [35, 43, 3, 2, 68, 2, 38], [35, 43, 3, 2, 68, 2, 76], [35, 43, 3, 2, 68, 2, 17], [35, 43, 3, 2, 68, 2, 66], [35, 43, 3, 2, 68, 2, 5], [35, 43, 3, 2, 68, 2, 43], [35, 43, 3, 2, 68, 2, 204], [35, 43, 3, 2, 68, 4, 174], [35, 43, 3, 2, 68, 148, 369, 3], [35, 43, 3, 2, 68, 148, 369, 55], [35, 43, 3, 2, 68, 148, 369, 17], [35, 43, 3, 2, 68, 148, 369, 76], [35, 43, 3, 2, 68, 148, 369, 38], [35, 43, 3, 2, 68, 148, 369, 66], [35, 43, 3, 2, 68, 148, 369, 43], [35, 43, 3, 2, 68, 148, 369, 5], [35, 43, 3, 2, 68, 148, 54, 81], [35, 43, 3, 2, 68, 148, 54, 399], [35, 43, 3, 2, 68, 148, 54, 117], [35, 43, 3, 2, 68, 148, 54, 282], [35, 43, 3, 2, 68, 148, 54, 86], [35, 43, 3, 2, 68, 148, 54, 238], [35, 43, 3, 2, 68, 148, 63, 81], [35, 43, 3, 2, 68, 148, 63, 86], [35, 43, 3, 2, 68, 148, 63, 117], [35, 43, 3, 2, 68, 148, 63, 46], [35, 43, 3, 2, 68, 148, 63, 310], [35, 43, 3, 2, 68, 148, 63, 399], [35, 43, 3, 2, 68, 148, 63, 282], [35, 43, 3, 2, 68, 148, 112, 55], [35, 43, 3, 2, 68, 148, 112, 43], [35, 43, 3, 2, 68, 148, 112, 3], [35, 43, 3, 2, 68, 148, 136, 30], [35, 43, 3, 2, 68, 148, 136, 68], [35, 43, 3, 2, 68, 148, 218, 282], [35, 43, 3, 2, 68, 148, 218, 0], [35, 43, 3, 2, 68, 148, 218, 963], [35, 43, 3, 2, 68, 148, 218, 54], [35, 43, 3, 2, 68, 148, 218, 399], [35, 43, 3, 2, 68, 148, 0, 399], [35, 43, 3, 2, 68, 148, 0, 1048], [35, 43, 3, 2, 68, 148, 0, 425], [35, 43, 3, 2, 68, 148, 0, 829], [35, 43, 3, 2, 68, 148, 0, 1588], [35, 43, 3, 2, 68, 148, 0, 963], [35, 43, 3, 2, 68, 148, 0, 231], [35, 43, 3, 2, 68, 148, 396, 55], [35, 43, 3, 2, 68, 148, 396, 24], [35, 43, 3, 2, 68, 148, 396, 1066], [35, 43, 3, 2, 68, 148, 20, 21], [35, 43, 3, 2, 321, 369, 68], [35, 43, 3, 2, 321, 3, 35], [35, 43, 3, 2, 321, 3, 2], [35, 43, 3, 2, 321, 17, 2], [35, 43, 3, 2, 321, 17, 35], [35, 43, 3, 2, 321, 4, 174], [35, 43, 3, 2, 321, 2, 55], [35, 43, 3, 2, 321, 2, 3], [35, 43, 3, 2, 321, 2, 17], [35, 43, 3, 2, 321, 2, 38], [35, 43, 3, 2, 321, 2, 76], [35, 43, 3, 2, 321, 2, 66], [35, 43, 3, 2, 321, 2, 5], [35, 43, 3, 2, 321, 2, 43], [35, 43, 3, 2, 321, 684, 829], [35, 43, 3, 2, 321, 684, 635], [35, 43, 3, 2, 321, 55, 419, 68], [35, 43, 3, 2, 321, 55, 416, 148], [35, 43, 3, 2, 321, 55, 416, 76], [35, 43, 3, 2, 321, 55, 416, 66], [35, 43, 3, 2, 321, 55, 416, 3], [35, 43, 3, 2, 321, 55, 416, 5], [35, 43, 3, 2, 321, 55, 46, 68], [35, 43, 3, 2, 321, 55, 117, 68], [35, 43, 3, 2, 321, 55, 86, 68], [35, 43, 3, 2, 321, 55, 86, 170], [35, 43, 3, 2, 321, 55, 310, 68], [35, 43, 3, 2, 321, 55, 668, 68], [35, 43, 3, 2, 321, 55, 37, 68], [35, 14, 43, 95, 372, 148, 2], [35, 14, 43, 95, 372, 765, 776], [35, 14, 43, 95, 372, 43, 1876], [35, 14, 43, 95, 372, 3, 35], [35, 14, 43, 95, 372, 369, 120], [35, 14, 43, 95, 372, 369, 549], [35, 14, 43, 95, 372, 148, 369, 3], [35, 14, 43, 95, 372, 148, 369, 55], [35, 14, 43, 95, 372, 148, 369, 17], [35, 14, 43, 95, 372, 148, 369, 66], [35, 14, 43, 95, 372, 148, 369, 76], [35, 14, 43, 95, 372, 148, 369, 38], [35, 14, 43, 95, 372, 148, 369, 43], [35, 14, 43, 95, 372, 148, 369, 5], [35, 14, 43, 95, 372, 148, 54, 81], [35, 14, 43, 95, 372, 148, 54, 399], [35, 14, 43, 95, 372, 148, 54, 117], [35, 14, 43, 95, 372, 148, 54, 238], [35, 14, 43, 95, 372, 148, 54, 282], [35, 14, 43, 95, 372, 148, 63, 81], [35, 14, 43, 95, 372, 148, 63, 117], [35, 14, 43, 95, 372, 148, 63, 86], [35, 14, 43, 95, 372, 148, 63, 399], [35, 14, 43, 95, 372, 148, 63, 310], [35, 14, 43, 95, 372, 148, 63, 238], [35, 14, 43, 95, 372, 148, 136, 30], [35, 14, 43, 95, 372, 148, 136, 21], [35, 14, 43, 95, 372, 148, 112, 43], [35, 14, 43, 95, 372, 148, 112, 3], [35, 14, 43, 95, 372, 148, 112, 55], [35, 14, 43, 95, 372, 148, 218, 0], [35, 14, 43, 95, 372, 148, 218, 282], [35, 14, 43, 95, 372, 148, 218, 54], [35, 14, 43, 95, 372, 148, 218, 963], [35, 14, 43, 95, 372, 148, 218, 63], [35, 14, 43, 95, 372, 148, 218, 399], [35, 14, 43, 95, 372, 148, 605, 68], [35, 14, 43, 95, 372, 148, 20, 21], [35, 14, 43, 95, 372, 148, 20, 68], [35, 14, 43, 95, 372, 148, 0, 399], [35, 14, 43, 95, 372, 148, 0, 1048], [35, 14, 43, 95, 372, 148, 0, 425], [35, 14, 43, 95, 372, 148, 0, 1588], [35, 14, 43, 95, 372, 148, 0, 231], [35, 14, 43, 95, 372, 148, 0, 963], [35, 14, 43, 95, 372, 148, 0, 829]]\n",
            "人間はこの男から、吾輩\n",
            "人間はこの男から吾輩の\n",
            "人間はこの男から吾輩は\n",
            "人間はこの男から吾輩に\n",
            "人間はこの男から吾輩を\n",
            "人間はこの男から吾輩が\n",
            "人間はこの男から吾輩も\n",
            "人間はこの男から吾輩で\n",
            "人間はこの男から吾輩と\n",
            "人間はこの男からこのくらい\n",
            "人間はこの男からこの通り\n",
            "人間はこの男からこの主人\n",
            "人間はこの男からこの男\n",
            "人間はこの男からその通り\n",
            "人間はこの男からそのくらい\n",
            "人間はこの男からその代り\n",
            "人間はこの男から主人から\n",
            "人間はこの男から、その時\n",
            "人間はこの男から、その上\n",
            "人間はこの男から、その事\n",
            "人間はこの男から、その人\n",
            "人間はこの男から、その方\n",
            "人間はこの男から、その中\n",
            "人間はこの男から、この時\n",
            "人間はこの男から、この人\n",
            "人間はこの男から、この事\n",
            "人間はこの男から、この上\n",
            "人間はこの男から、この方\n",
            "人間はこの男から、これから\n",
            "人間はこの男から、これでも\n",
            "人間はこの男から、主人の\n",
            "人間はこの男から、主人は\n",
            "人間はこの男から、主人が\n",
            "人間はこの男から、主人に\n",
            "人間はこの男から、主人も\n",
            "人間はこの男から、主人を\n",
            "人間はこの男から、主人で\n",
            "人間はこの男から、主人と\n",
            "人間はこの男から、こんなと\n",
            "人間はこの男から、こんなの\n",
            "人間はこの男から、こんなに\n",
            "人間はこの男から、こんな日\n",
            "人間はこの男から、こんなは\n",
            "人間はこの男から、君から\n",
            "人間はこの男から、一人\n",
            "人間はこの男から、一枚\n",
            "人間はこの男から、一本\n",
            "人間はこの男から、一杯\n",
            "人間はこの男から、一日\n",
            "人間はこの男から、一分\n",
            "人間はこの男から、まだ云う\n",
            "人間はこの男から、まだない\n",
            "人間はこの男から、そんなの\n",
            "人間はこの男から、そんなと\n",
            "人間はこの男から、そんなで\n",
            "人間はこの男から、そんな日\n",
            "人間はこの男から、そんなに\n",
            "人間はこの通りから、吾輩\n",
            "人間はこの通りからこのくらい\n",
            "人間はこの通りからこの通り\n",
            "人間はこの通りからこの男\n",
            "人間はこの通りから吾輩の\n",
            "人間はこの通りから吾輩は\n",
            "人間はこの通りから吾輩に\n",
            "人間はこの通りから吾輩が\n",
            "人間はこの通りから吾輩を\n",
            "人間はこの通りから吾輩も\n",
            "人間はこの通りから吾輩で\n",
            "人間はこの通りから吾輩と\n",
            "人間はこの通りから吾輩へ\n",
            "人間はこの通りから、その時\n",
            "人間はこの通りから、その事\n",
            "人間はこの通りから、その上\n",
            "人間はこの通りから、その人\n",
            "人間はこの通りから、その方\n",
            "人間はこの通りから、この時\n",
            "人間はこの通りから、この人\n",
            "人間はこの通りから、この事\n",
            "人間はこの通りから、この三\n",
            "人間はこの通りから、この頃\n",
            "人間はこの通りから、君から\n",
            "人間はこの通りから、これでも\n",
            "人間はこの通りから、これから\n",
            "人間はこの通りから、まだ云う\n",
            "人間はこの通りから、まだない\n",
            "人間はこの通りから、まだそう\n",
            "人間はこの通りから、そんなの\n",
            "人間はこの通りから、そんな日\n",
            "人間はこの通りから、そんなと\n",
            "人間はこの通りから、そんなで\n",
            "人間はこの通りから、御師匠\n",
            "人間はこの通りから、御承知\n",
            "人間はこの通りから、こんなの\n",
            "人間はこの通りから、こんなと\n",
            "人間はこの通りから、こんな御\n",
            "人間はこの通りから、こんな日\n",
            "人間はこの通りから、こんなは\n",
            "人間はこの通りから、そう云う\n",
            "人間はこの通りから、そうです\n",
            "人間には一向どもは人間\n",
            "人間には一向どもならなかっ\n",
            "人間には一向どもがないから\n",
            "人間には一向どもがないもの\n",
            "人間には一向どもがないよう\n",
            "人間には一向どもがない事\n",
            "人間には一向どもがあるもの\n",
            "人間には一向どもがあるまい\n",
            "人間には一向どもがあるから\n",
            "人間には一向どもがあるよう\n",
            "人間には一向どもがある事\n",
            "人間には一向どもが出来ない\n",
            "人間には一向どもが出来なく\n",
            "人間には一向どもが出来する\n",
            "人間には一向どもがしなけれ\n",
            "人間には一向どもが出来る。\n",
            "人間には一向どもが出来るん\n",
            "人間には一向どもが出来ると\n",
            "人間には一向どもが出来るが\n",
            "人間には一向どもが出来るの\n",
            "人間には一向どもが出来るか\n",
            "人間には一向どもがありませ\n",
            "人間には一向どもがあります\n",
            "人間には一向どもがありない\n",
            "人間には一向どもがありまし\n",
            "人間には一向どもがするもの\n",
            "人間には一向どもがするよう\n",
            "人間には一向どもがする事\n",
            "人間には一向どもがするから\n",
            "人間には一向どもがあっない\n",
            "人間には一向どもがあったら\n",
            "人間には一向どもがあってる\n",
            "人間には一向どもがあっます\n",
            "人間には一向どもがあっられ\n",
            "人間には一向どもがあっまし\n",
            "人間には一向どもがあっなく\n",
            "人間には一向どもが、主人\n",
            "人間には一向どもが、こんな\n",
            "人間には一向どもが、あまり\n",
            "人間には一向どもが出なけれ\n",
            "人間には吾輩からは人間\n",
            "人間には吾輩からは吾輩\n",
            "人間には吾輩からは一向\n",
            "人間には吾輩からこのくらい\n",
            "人間には吾輩からこの通り\n",
            "人間には吾輩から、吾輩\n",
            "人間には吾輩から吾輩の\n",
            "人間には吾輩から吾輩は\n",
            "人間には吾輩から吾輩を\n",
            "人間には吾輩から吾輩が\n",
            "人間には吾輩から吾輩に\n",
            "人間には吾輩から吾輩も\n",
            "人間には吾輩から吾輩で\n",
            "人間には吾輩から吾輩と\n",
            "人間には吾輩から吾輩へ\n",
            "人間には吾輩からはこの時\n",
            "人間には吾輩からはこの事\n",
            "人間には吾輩からはこのもの\n",
            "人間には吾輩からはこの人\n",
            "人間には吾輩からはこのよう\n",
            "人間には吾輩からはこの点\n",
            "人間には吾輩からは一人\n",
            "人間には吾輩からは一枚\n",
            "人間には吾輩からは一本\n",
            "人間には吾輩からは一分\n",
            "人間には吾輩からは一十\n",
            "人間には吾輩からは一杯\n",
            "人間には吾輩からは一尺\n",
            "人間には吾輩からは猫から\n",
            "人間には吾輩からは猫より\n",
            "人間には吾輩からは主人の\n",
            "人間には吾輩からは主人が\n",
            "人間には吾輩からは主人に\n",
            "人間には吾輩からは主人を\n",
            "人間には吾輩からは主人は\n",
            "人間には吾輩からは主人で\n",
            "人間には吾輩からは主人も\n",
            "人間には吾輩からは主人と\n",
            "人間には吾輩からは主人だ\n",
            "人間には吾輩からはないから\n",
            "人間には吾輩からはないもの\n",
            "人間には吾輩からはない事\n",
            "人間には吾輩からはないよう\n",
            "人間には吾輩からは、主人\n",
            "人間には吾輩からは、こんな\n",
            "人間には吾輩からは、あまり\n",
            "人間には吾輩からは、自分\n",
            "人間には吾輩からはあるまい\n",
            "人間には吾輩からはあるもの\n",
            "人間には吾輩からはあるから\n",
            "人間には吾輩からはある事\n",
            "人間には吾輩からはあるかも\n",
            "人間には吾輩からはあるよう\n",
            "人間には吾輩よりは人間\n",
            "人間には吾輩よりは吾輩\n",
            "人間には吾輩よりが吾輩\n",
            "人間には吾輩よりが人間\n",
            "人間には吾輩より主人から\n",
            "人間には吾輩より吾輩の\n",
            "人間には吾輩より吾輩は\n",
            "人間には吾輩より吾輩が\n",
            "人間には吾輩より吾輩を\n",
            "人間には吾輩より吾輩に\n",
            "人間には吾輩より吾輩も\n",
            "人間には吾輩より吾輩で\n",
            "人間には吾輩より吾輩と\n",
            "人間には吾輩より猫として\n",
            "人間には吾輩よりむしろ的\n",
            "人間には吾輩よりむしろ分\n",
            "人間には吾輩よりはこの時\n",
            "人間には吾輩よりはこの事\n",
            "人間には吾輩よりはこのもの\n",
            "人間には吾輩よりはこの人\n",
            "人間には吾輩よりはこの方\n",
            "人間には吾輩よりはこのよう\n",
            "人間には吾輩よりはこの猫\n",
            "人間には吾輩よりは猫から\n",
            "人間には吾輩よりはあるまい\n",
            "人間には吾輩よりはあるもの\n",
            "人間には吾輩よりはあるから\n",
            "人間には吾輩よりはある事\n",
            "人間には吾輩よりはあるかも\n",
            "人間には吾輩よりは主人の\n",
            "人間には吾輩よりは主人が\n",
            "人間には吾輩よりは主人に\n",
            "人間には吾輩よりは主人を\n",
            "人間には吾輩よりは主人は\n",
            "人間には吾輩よりは主人で\n",
            "人間には吾輩よりは主人も\n",
            "人間には吾輩よりは主人と\n",
            "人間には吾輩よりは主人だ\n",
            "人間には吾輩よりはないから\n",
            "人間には吾輩よりはないもの\n",
            "人間には吾輩よりはない事\n",
            "人間には吾輩よりはないよう\n",
            "人間には吾輩よりは無論を\n",
            "人間には吾輩よりは無論の\n",
            "人間には吾輩よりは無論と\n",
            "人間には吾輩よりは無論「\n",
            "人間には吾輩よりは無論、\n",
            "人間には吾輩よりは出来ない\n",
            "人間には吾輩よりは出来ませ\n",
            "人間には吾輩よりは出来する\n",
            "人間には吾輩よりは出来まい\n",
            "人間には吾輩よりは、主人\n",
            "人間には吾輩よりは、あまり\n",
            "人間には吾輩よりは、こんな\n",
            "人間には吾輩よりは、自分\n",
            "人間には人間でもは人間\n",
            "人間には人間でもは一向\n",
            "人間には人間でも、吾輩\n",
            "人間には人間でも、人間\n",
            "人間には人間でもなるくらい\n",
            "人間には人間でもこのくらい\n",
            "人間には人間でもこの通り\n",
            "人間には人間でもこの男\n",
            "人間には人間でもあるものは\n",
            "人間には人間でもあるもので\n",
            "人間には人間でもあるものが\n",
            "人間には人間でもあるものか\n",
            "人間には人間でもあるものだ\n",
            "人間には人間でもあるものと\n",
            "人間には人間でもあるものを\n",
            "人間には人間でもあるものの\n",
            "人間には人間でもあるものに\n",
            "人間には人間でもあるものも\n",
            "人間には人間でもある。から\n",
            "人間には人間でもあるがある\n",
            "人間には人間でもあるがいい\n",
            "人間には人間でもあるがあっ\n",
            "人間には人間でもあるがなら\n",
            "人間には人間でもあるがこの\n",
            "人間には人間でもあるが出来\n",
            "人間には人間でもあるまいと\n",
            "人間には人間でもあるまい。\n",
            "人間には人間でもあるまいが\n",
            "人間には人間でもあるまいか\n",
            "人間には人間でもあるまいで\n",
            "人間には人間でもあるまいな\n",
            "人間には人間でもあるまいに\n",
            "人間には人間でもあるまいの\n",
            "人間には人間でもあるまいを\n",
            "人間には人間でもある事が\n",
            "人間には人間でもある事は\n",
            "人間には人間でもある事を\n",
            "人間には人間でもある事に\n",
            "人間には人間でもある事も\n",
            "人間には人間でもある事で\n",
            "人間には人間でもある事だ\n",
            "人間には人間でもある事の\n",
            "人間には人間でもある事と\n",
            "人間には人間でもある事さ\n",
            "人間には人間でもあるから、\n",
            "人間には人間でもあるからね\n",
            "人間には人間でもあるからで\n",
            "人間には人間でもあるからと\n",
            "人間には人間でもあるからも\n",
            "人間には人間でもあるからか\n",
            "人間には人間でもあると云う\n",
            "人間には人間でもあると見え\n",
            "人間には人間でもあると云っ\n",
            "人間には人間でもあるような\n",
            "人間には人間でもあるように\n",
            "人間には人間でもあるようだ\n",
            "人間には人間でもあるようで\n",
            "人間には人間でもあるようが\n",
            "人間には人間でもあるようを\n",
            "人間には人間でもあるようと\n",
            "人間には人間でもあるようの\n",
            "人間には人間でもあるようか\n",
            "人間には人間でもあるかもで\n",
            "人間には人間でもあるかもと\n",
            "人間には人間でもあるかも、\n",
            "人間には人間でもあるかもだ\n",
            "人間には人間でもあるかもな\n",
            "人間には人間でもあるかもう\n",
            "人間には人間でもあるかもに\n",
            "人間には人間でもあるかもを\n",
            "人間には人間でもあるかもて\n",
            "人間もこの通りから、吾輩\n",
            "人間もこの通りからは人間\n",
            "人間もこの通りからは吾輩\n",
            "人間もこの通りからこのくらい\n",
            "人間もこの通りからこの通り\n",
            "人間もこの通りから、その時\n",
            "人間もこの通りから、その事\n",
            "人間もこの通りから、その上\n",
            "人間もこの通りから、その方\n",
            "人間もこの通りから、その人\n",
            "人間もこの通りから、その中\n",
            "人間もこの通りから、この時\n",
            "人間もこの通りから、この人\n",
            "人間もこの通りから、この事\n",
            "人間もこの通りから、この三\n",
            "人間もこの通りから、君から\n",
            "人間もこの通りから、これだけ\n",
            "人間もこの通りから、これでも\n",
            "人間もこの通りから、主人は\n",
            "人間もこの通りから、主人の\n",
            "人間もこの通りから、主人が\n",
            "人間もこの通りから、主人に\n",
            "人間もこの通りから、主人も\n",
            "人間もこの通りから、主人を\n",
            "人間もこの通りから、主人と\n",
            "人間もこの通りから、主人で\n",
            "人間もこの通りから、こんなの\n",
            "人間もこの通りから、こんなは\n",
            "人間もこの通りから、こんなと\n",
            "人間もこの通りから、こんなに\n",
            "人間もこの通りから、こんな日\n",
            "人間もこの通りから、一人\n",
            "人間もこの通りから、一枚\n",
            "人間もこの通りから、一本\n",
            "人間もこの通りから、一杯\n",
            "人間もこの通りから、一日\n",
            "人間もこの通りから、一分\n",
            "人間もこの通りから、一十\n",
            "人間もこの通りから、御師匠\n",
            "人間もこの通りから、御承知\n",
            "人間もこの通りから、まだ云う\n",
            "人間もこの通りから、まだする\n",
            "人間とは吾輩から、吾輩\n",
            "人間とは吾輩からこのくらい\n",
            "人間とは吾輩からこの通り\n",
            "人間とは吾輩からこの主人\n",
            "人間とは吾輩から主人から\n",
            "人間とは吾輩から吾輩の\n",
            "人間とは吾輩から吾輩は\n",
            "人間とは吾輩から吾輩を\n",
            "人間とは吾輩から吾輩に\n",
            "人間とは吾輩から吾輩が\n",
            "人間とは吾輩から吾輩も\n",
            "人間とは吾輩から吾輩で\n",
            "人間とは吾輩から吾輩と\n",
            "人間とは吾輩から吾輩へ\n",
            "人間とは吾輩から猫として\n",
            "人間とは吾輩から、主人は\n",
            "人間とは吾輩から、主人の\n",
            "人間とは吾輩から、主人が\n",
            "人間とは吾輩から、主人に\n",
            "人間とは吾輩から、主人を\n",
            "人間とは吾輩から、主人も\n",
            "人間とは吾輩から、主人と\n",
            "人間とは吾輩から、主人で\n",
            "人間とは吾輩から、この時\n",
            "人間とは吾輩から、この人\n",
            "人間とは吾輩から、この事\n",
            "人間とは吾輩から、この三\n",
            "人間とは吾輩から、この上\n",
            "人間とは吾輩から、この声\n",
            "人間とは吾輩から、その時\n",
            "人間とは吾輩から、その上\n",
            "人間とは吾輩から、その事\n",
            "人間とは吾輩から、その中\n",
            "人間とは吾輩から、その方\n",
            "人間とは吾輩から、その人\n",
            "人間とは吾輩から、その三\n",
            "人間とは吾輩から、こんなの\n",
            "人間とは吾輩から、こんなと\n",
            "人間とは吾輩から、こんなは\n",
            "人間とは吾輩から、これだけ\n",
            "人間とは吾輩から、これから\n",
            "人間とは吾輩から、また三\n",
            "人間とは吾輩から、また一\n",
            "人間とは吾輩から、また十\n",
            "人間とは吾輩から、またこの\n",
            "人間とは吾輩から、また人\n",
            "人間とは吾輩から、一人\n",
            "人間とは吾輩から、一枚\n",
            "人間とは吾輩から、一本\n",
            "人間とは吾輩から、一分\n",
            "人間とは吾輩から、一杯\n",
            "人間とは吾輩から、一十\n",
            "人間とは吾輩から、一日\n",
            "人間とは吾輩から、あまりの\n",
            "人間とは吾輩から、あまりし\n",
            "人間とは吾輩から、あまり御\n",
            "人間とは吾輩から、何でも\n",
            "人間とは吾輩より主人から\n",
            "人間とは吾輩よりは人間\n",
            "人間とは吾輩よりは吾輩\n",
            "人間とは吾輩よりが吾輩\n",
            "人間とは吾輩よりが人間\n",
            "人間とは吾輩より猫として\n",
            "人間とは吾輩より吾輩の\n",
            "人間とは吾輩より吾輩は\n",
            "人間とは吾輩より吾輩が\n",
            "人間とは吾輩より吾輩を\n",
            "人間とは吾輩より吾輩に\n",
            "人間とは吾輩より吾輩も\n",
            "人間とは吾輩より吾輩で\n",
            "人間とは吾輩より吾輩と\n",
            "人間とは吾輩よりむしろ分\n",
            "人間とは吾輩よりむしろ的\n",
            "人間とは吾輩よりのようから\n",
            "人間とは吾輩よりのごとく、\n",
            "人間とは吾輩よりのごとくに\n",
            "人間とは吾輩よりのごとくも\n",
            "人間とは吾輩よりのごとくは\n",
            "人間とは吾輩よりのごとくで\n",
            "人間とは吾輩よりの中から\n",
            "人間とは吾輩よりの事から\n",
            "人間とは吾輩よりの上から\n",
            "人間とは吾輩よりの上まで\n",
            "人間とは吾輩よりの方から\n",
            "人間とは吾輩よりのためから\n",
            "人間とは吾輩よりのものから\n",
            "人間かと思っながら、吾輩\n",
            "人間かと思っながら「なるほど\n",
            "人間かと思っながらと寒月\n",
            "人間かと思っながらは人間\n",
            "人間かと思っながら主人なら\n",
            "人間かと思っながら主人など\n",
            "人間かと思っながら、主人は\n",
            "人間かと思っながら、主人の\n",
            "人間かと思っながら、主人が\n",
            "人間かと思っながら、主人も\n",
            "人間かと思っながら、主人に\n",
            "人間かと思っながら、主人を\n",
            "人間かと思っながら、主人と\n",
            "人間かと思っながら、主人で\n",
            "人間かと思っながら、この時\n",
            "人間かと思っながら、この人\n",
            "人間かと思っながら、この事\n",
            "人間かと思っながら、この声\n",
            "人間かと思っながら、この三\n",
            "人間かと思っながら、その時\n",
            "人間かと思っながら、その事\n",
            "人間かと思っながら、その上\n",
            "人間かと思っながら、その人\n",
            "人間かと思っながら、その方\n",
            "人間かと思っながら、その声\n",
            "人間かと思っながら、これだけ\n",
            "人間かと思っながら、これでも\n",
            "人間かと思っながら、こんなと\n",
            "人間かと思っながら、こんなは\n",
            "人間かと思っながら、こんなの\n",
            "人間かと思っながら、また一\n",
            "人間かと思っながら、また三\n",
            "人間かと思っながら、またこの\n",
            "人間かと思っながら、また十\n",
            "人間かと思っながら、またその\n",
            "人間かと思っながら、また人\n",
            "人間かと思っながら、君から\n",
            "人間かと思っながら、何でも\n",
            "人間かと思っながら、何から\n",
            "人間かと思っながら、一人\n",
            "人間かと思っながら、一枚\n",
            "人間かと思っながら、一本\n",
            "人間かと思っながら、一杯\n",
            "人間かと思っながら、一日\n",
            "人間かと思っながら、一十\n",
            "人間かと思っながら、一分\n"
          ],
          "name": "stdout"
        }
      ]
    },
    {
      "metadata": {
        "id": "-Xo8Bd75ivLe",
        "colab_type": "code",
        "colab": {}
      },
      "cell_type": "code",
      "source": [
        ""
      ],
      "execution_count": 0,
      "outputs": []
    }
  ]
}